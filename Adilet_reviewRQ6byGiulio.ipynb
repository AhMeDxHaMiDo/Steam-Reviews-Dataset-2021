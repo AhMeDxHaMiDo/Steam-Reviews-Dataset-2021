{
 "cells": [
  {
   "cell_type": "code",
   "execution_count": 31,
   "id": "4e947b9c",
   "metadata": {},
   "outputs": [],
   "source": [
    "import pandas as pd\n",
    "import matplotlib.pyplot as plt\n",
    "import math"
   ]
  },
  {
   "cell_type": "code",
   "execution_count": 3,
   "id": "414416e1",
   "metadata": {},
   "outputs": [],
   "source": [
    "nrows = 10000000\n",
    "df = pd.read_csv(\"./steam_reviews.csv\", nrows=nrows)"
   ]
  },
  {
   "cell_type": "markdown",
   "id": "e6a1707d",
   "metadata": {},
   "source": [
    "# RQ1"
   ]
  },
  {
   "cell_type": "markdown",
   "id": "6506173a",
   "metadata": {},
   "source": [
    "I use the basic function of the pandas .info() to understand how many columns it consists of, their datatype, and of course how much memory consume."
   ]
  },
  {
   "cell_type": "code",
   "execution_count": 85,
   "id": "2702c533",
   "metadata": {},
   "outputs": [
    {
     "name": "stdout",
     "output_type": "stream",
     "text": [
      "<class 'pandas.core.frame.DataFrame'>\n",
      "RangeIndex: 10000000 entries, 0 to 9999999\n",
      "Data columns (total 23 columns):\n",
      " #   Column                          Dtype  \n",
      "---  ------                          -----  \n",
      " 0   Unnamed: 0                      int64  \n",
      " 1   app_id                          int64  \n",
      " 2   app_name                        object \n",
      " 3   review_id                       int64  \n",
      " 4   language                        object \n",
      " 5   review                          object \n",
      " 6   timestamp_created               int64  \n",
      " 7   timestamp_updated               int64  \n",
      " 8   recommended                     bool   \n",
      " 9   votes_helpful                   int64  \n",
      " 10  votes_funny                     int64  \n",
      " 11  weighted_vote_score             float64\n",
      " 12  comment_count                   int64  \n",
      " 13  steam_purchase                  bool   \n",
      " 14  received_for_free               bool   \n",
      " 15  written_during_early_access     bool   \n",
      " 16  author.steamid                  int64  \n",
      " 17  author.num_games_owned          int64  \n",
      " 18  author.num_reviews              int64  \n",
      " 19  author.playtime_forever         float64\n",
      " 20  author.playtime_last_two_weeks  float64\n",
      " 21  author.playtime_at_review       float64\n",
      " 22  author.last_played              float64\n",
      "dtypes: bool(4), float64(5), int64(11), object(3)\n",
      "memory usage: 1.5+ GB\n"
     ]
    }
   ],
   "source": [
    "df.info()"
   ]
  },
  {
   "cell_type": "markdown",
   "id": "04291d0b",
   "metadata": {},
   "source": [
    "Let's see the information in a row is given:"
   ]
  },
  {
   "cell_type": "code",
   "execution_count": 97,
   "id": "7894cd1b",
   "metadata": {},
   "outputs": [
    {
     "data": {
      "text/html": [
       "<div>\n",
       "<style scoped>\n",
       "    .dataframe tbody tr th:only-of-type {\n",
       "        vertical-align: middle;\n",
       "    }\n",
       "\n",
       "    .dataframe tbody tr th {\n",
       "        vertical-align: top;\n",
       "    }\n",
       "\n",
       "    .dataframe thead th {\n",
       "        text-align: right;\n",
       "    }\n",
       "</style>\n",
       "<table border=\"1\" class=\"dataframe\">\n",
       "  <thead>\n",
       "    <tr style=\"text-align: right;\">\n",
       "      <th></th>\n",
       "      <th>Unnamed: 0</th>\n",
       "      <th>app_id</th>\n",
       "      <th>app_name</th>\n",
       "      <th>review_id</th>\n",
       "      <th>language</th>\n",
       "      <th>review</th>\n",
       "      <th>timestamp_created</th>\n",
       "      <th>timestamp_updated</th>\n",
       "      <th>recommended</th>\n",
       "      <th>votes_helpful</th>\n",
       "      <th>...</th>\n",
       "      <th>steam_purchase</th>\n",
       "      <th>received_for_free</th>\n",
       "      <th>written_during_early_access</th>\n",
       "      <th>author.steamid</th>\n",
       "      <th>author.num_games_owned</th>\n",
       "      <th>author.num_reviews</th>\n",
       "      <th>author.playtime_forever</th>\n",
       "      <th>author.playtime_last_two_weeks</th>\n",
       "      <th>author.playtime_at_review</th>\n",
       "      <th>author.last_played</th>\n",
       "    </tr>\n",
       "  </thead>\n",
       "  <tbody>\n",
       "    <tr>\n",
       "      <th>0</th>\n",
       "      <td>0</td>\n",
       "      <td>292030</td>\n",
       "      <td>The Witcher 3: Wild Hunt</td>\n",
       "      <td>85185598</td>\n",
       "      <td>schinese</td>\n",
       "      <td>不玩此生遗憾，RPG游戏里的天花板，太吸引人了</td>\n",
       "      <td>1611381629</td>\n",
       "      <td>1611381629</td>\n",
       "      <td>True</td>\n",
       "      <td>0</td>\n",
       "      <td>...</td>\n",
       "      <td>True</td>\n",
       "      <td>False</td>\n",
       "      <td>False</td>\n",
       "      <td>76561199095369542</td>\n",
       "      <td>6</td>\n",
       "      <td>2</td>\n",
       "      <td>1909.0</td>\n",
       "      <td>1448.0</td>\n",
       "      <td>1909.0</td>\n",
       "      <td>1.611343e+09</td>\n",
       "    </tr>\n",
       "  </tbody>\n",
       "</table>\n",
       "<p>1 rows × 23 columns</p>\n",
       "</div>"
      ],
      "text/plain": [
       "   Unnamed: 0  app_id                  app_name  review_id  language  \\\n",
       "0           0  292030  The Witcher 3: Wild Hunt   85185598  schinese   \n",
       "\n",
       "                    review  timestamp_created  timestamp_updated  recommended  \\\n",
       "0  不玩此生遗憾，RPG游戏里的天花板，太吸引人了         1611381629         1611381629         True   \n",
       "\n",
       "   votes_helpful  ...  steam_purchase  received_for_free  \\\n",
       "0              0  ...            True              False   \n",
       "\n",
       "   written_during_early_access     author.steamid  author.num_games_owned  \\\n",
       "0                        False  76561199095369542                       6   \n",
       "\n",
       "   author.num_reviews  author.playtime_forever  \\\n",
       "0                   2                   1909.0   \n",
       "\n",
       "   author.playtime_last_two_weeks  author.playtime_at_review  \\\n",
       "0                          1448.0                     1909.0   \n",
       "\n",
       "   author.last_played  \n",
       "0        1.611343e+09  \n",
       "\n",
       "[1 rows x 23 columns]"
      ]
     },
     "execution_count": 97,
     "metadata": {},
     "output_type": "execute_result"
    }
   ],
   "source": [
    "df.head(1)"
   ]
  },
  {
   "cell_type": "markdown",
   "id": "344497dd",
   "metadata": {},
   "source": [
    "Focus in time columns: timestamp_created, timestamp_updated, author.last_played are given:"
   ]
  },
  {
   "cell_type": "code",
   "execution_count": 98,
   "id": "757c38f7",
   "metadata": {},
   "outputs": [
    {
     "data": {
      "text/html": [
       "<div>\n",
       "<style scoped>\n",
       "    .dataframe tbody tr th:only-of-type {\n",
       "        vertical-align: middle;\n",
       "    }\n",
       "\n",
       "    .dataframe tbody tr th {\n",
       "        vertical-align: top;\n",
       "    }\n",
       "\n",
       "    .dataframe thead th {\n",
       "        text-align: right;\n",
       "    }\n",
       "</style>\n",
       "<table border=\"1\" class=\"dataframe\">\n",
       "  <thead>\n",
       "    <tr style=\"text-align: right;\">\n",
       "      <th></th>\n",
       "      <th>timestamp_created</th>\n",
       "      <th>timestamp_updated</th>\n",
       "      <th>author.last_played</th>\n",
       "    </tr>\n",
       "  </thead>\n",
       "  <tbody>\n",
       "    <tr>\n",
       "      <th>0</th>\n",
       "      <td>1611381629</td>\n",
       "      <td>1611381629</td>\n",
       "      <td>1.611343e+09</td>\n",
       "    </tr>\n",
       "  </tbody>\n",
       "</table>\n",
       "</div>"
      ],
      "text/plain": [
       "   timestamp_created  timestamp_updated  author.last_played\n",
       "0         1611381629         1611381629        1.611343e+09"
      ]
     },
     "execution_count": 98,
     "metadata": {},
     "output_type": "execute_result"
    }
   ],
   "source": [
    "df[[\"timestamp_created\", \"timestamp_updated\", \"author.last_played\"]].head(1)"
   ]
  },
  {
   "cell_type": "markdown",
   "id": "878479c5",
   "metadata": {},
   "source": [
    "We can see that the time is given in second >> we need to parse it to datetime object for time-related question."
   ]
  },
  {
   "cell_type": "markdown",
   "id": "c9e920e3",
   "metadata": {},
   "source": [
    "Instead we see that: recommended, steam_purchase, received_for_free, written_during_early_access are boolean. Yes (True) or No (False) information type."
   ]
  },
  {
   "cell_type": "markdown",
   "id": "cbc99dc3",
   "metadata": {},
   "source": [
    "#### Our dataset consists of information about the characteristics of the review and general information about the steam account of the author.\n",
    "\n",
    "What game was the review written for: __app_id, app_name__ ;<br>\n",
    "in what language was the review: __language__ ;<br>\n",
    "whether it recommends or not __recommended__;<br>\n",
    "information about the review: __review_id, review__; <br>\n",
    "the time review was written and the time it was updated: __timestamp_created, timestamp_updated__<br>\n",
    "how useful the review was: __votes_helpful, votes_funny, weighted_vote_score__;<br>\n",
    "how many comments (replies) were written on the review __comment_count__<br>\n",
    "whether the author bought the game or received it for free: __steam_purchase,received_for_free__;<br>\n",
    "whether the author wrote a review when the game was in pre-release: __written_during_early_access__.<br>\n",
    "\n",
    "Information about the _Author_ (steam account): \n",
    "their identification key: __author.steamid__; <br>\n",
    "how many games he has: __author.num_games_owned__;<br>\n",
    "how many reviews he wrote: __author.num_reviews__;<br>\n",
    "how many hours he played in total: __author.playtime_forever__;<br>\n",
    "whether he played in the last two weeks: __author.playtime_last_two_weeks__;<br>\n",
    "how long he played the game to write a review: __author.playtime_at_review__;<br>\n",
    "the date of his last game: __author.last_played__;<br>"
   ]
  },
  {
   "cell_type": "markdown",
   "id": "9683970d",
   "metadata": {},
   "source": [
    "# RQ6"
   ]
  },
  {
   "cell_type": "markdown",
   "id": "27535694",
   "metadata": {},
   "source": [
    "#### What is the average time (days and minutes) a user lets pass before he updates a review?\n"
   ]
  },
  {
   "cell_type": "code",
   "execution_count": 7,
   "id": "439834df",
   "metadata": {},
   "outputs": [
    {
     "data": {
      "text/plain": [
       "0         2021-01-23 06:00:29\n",
       "1         2021-01-23 05:50:30\n",
       "2         2021-01-23 05:46:40\n",
       "3         2021-01-23 05:32:50\n",
       "4         2021-01-23 05:23:47\n",
       "                  ...        \n",
       "9999995   2019-07-01 22:19:53\n",
       "9999996   2019-07-01 22:19:44\n",
       "9999997   2019-07-01 22:19:35\n",
       "9999998   2019-07-01 22:19:21\n",
       "9999999   2019-07-01 22:19:19\n",
       "Name: timestamp_created, Length: 10000000, dtype: datetime64[ns]"
      ]
     },
     "execution_count": 7,
     "metadata": {},
     "output_type": "execute_result"
    }
   ],
   "source": [
    "df_start=pd.to_datetime(df[\"timestamp_created\"],unit = \"s\")\n",
    "df_start "
   ]
  },
  {
   "cell_type": "code",
   "execution_count": 9,
   "id": "88fd5551",
   "metadata": {},
   "outputs": [
    {
     "data": {
      "text/plain": [
       "0         2021-01-23 06:00:29\n",
       "1         2021-01-23 05:50:30\n",
       "2         2021-01-23 05:46:40\n",
       "3         2021-01-23 05:32:50\n",
       "4         2021-01-23 05:23:47\n",
       "                  ...        \n",
       "9999995   2019-07-01 22:19:53\n",
       "9999996   2019-07-01 22:19:44\n",
       "9999997   2019-07-01 22:19:35\n",
       "9999998   2019-07-01 22:19:21\n",
       "9999999   2019-07-01 22:19:19\n",
       "Name: timestamp_updated, Length: 10000000, dtype: datetime64[ns]"
      ]
     },
     "execution_count": 9,
     "metadata": {},
     "output_type": "execute_result"
    }
   ],
   "source": [
    "df_updated=pd.to_datetime(df[\"timestamp_updated\"],unit = \"s\")\n",
    "df_updated"
   ]
  },
  {
   "cell_type": "code",
   "execution_count": 59,
   "id": "8824bdd6",
   "metadata": {},
   "outputs": [
    {
     "data": {
      "text/plain": [
       "Timedelta('7794 days 00:01:21')"
      ]
     },
     "execution_count": 59,
     "metadata": {},
     "output_type": "execute_result"
    }
   ],
   "source": [
    "#Find time difference between updated and created time\n",
    "df_diff = df_updated-df_start\n",
    "df_diff.max()"
   ]
  },
  {
   "cell_type": "markdown",
   "id": "70bf1343",
   "metadata": {},
   "source": [
    "I think in this way is more easy + I think is better to not include the review that don't has an update"
   ]
  },
  {
   "cell_type": "code",
   "execution_count": 60,
   "id": "2d0e007d",
   "metadata": {},
   "outputs": [
    {
     "data": {
      "text/plain": [
       "'317 days 01:03:19.758518572'"
      ]
     },
     "execution_count": 60,
     "metadata": {},
     "output_type": "execute_result"
    }
   ],
   "source": [
    "mean_time = df_diff[df_diff > \"0 days 00:00:00\"].mean()\n",
    "str(mean_time)"
   ]
  },
  {
   "cell_type": "code",
   "execution_count": 61,
   "id": "dcfa69fa",
   "metadata": {},
   "outputs": [],
   "source": [
    "def convert_time(time):\n",
    "    seconds = time.seconds\n",
    "    minutes = seconds // 60\n",
    "    days = time.days\n",
    "    return minutes, days"
   ]
  },
  {
   "cell_type": "code",
   "execution_count": 62,
   "id": "80ca32b3",
   "metadata": {},
   "outputs": [
    {
     "name": "stdout",
     "output_type": "stream",
     "text": [
      "317 Days and 63 minutes\n"
     ]
    }
   ],
   "source": [
    "print(\"{} Days and {} minutes\".format(days,minutes))"
   ]
  },
  {
   "cell_type": "markdown",
   "id": "e3c49c3c",
   "metadata": {},
   "source": [
    "#### Plot the top 3 authors that usually update their reviews"
   ]
  },
  {
   "cell_type": "code",
   "execution_count": 64,
   "id": "f55d7de1",
   "metadata": {},
   "outputs": [],
   "source": [
    "update_author = df[df_diff > \"0 days 00:00:00\"].groupby(\"author.steamid\")"
   ]
  },
  {
   "cell_type": "code",
   "execution_count": 67,
   "id": "dc46818e",
   "metadata": {},
   "outputs": [],
   "source": [
    "top3_author = update_author[\"review\"].count().nlargest(3)"
   ]
  },
  {
   "cell_type": "code",
   "execution_count": 84,
   "id": "9f652de5",
   "metadata": {},
   "outputs": [
    {
     "data": {
      "image/png": "[encoded data removed]",
      "text/plain": [
       "<Figure size 504x432 with 1 Axes>"
      ]
     },
     "metadata": {
      "needs_background": "light"
     },
     "output_type": "display_data"
    }
   ],
   "source": [
    "ax = top3_author.plot(kind = \"barh\", title = \"Top 3 author that usually update their reviews\", figsize=(7, 6))\n",
    "ax.set_ylabel(\"Author steam id\")\n",
    "ax.set_xlabel(\"Number of reviews updated\")\n",
    "plt.show()"
   ]
  },
  {
   "cell_type": "code",
   "execution_count": null,
   "id": "a41e0712",
   "metadata": {},
   "outputs": [],
   "source": []
  }
 ],
 "metadata": {
  "kernelspec": {
   "display_name": "Python 3 (ipykernel)",
   "language": "python",
   "name": "python3"
  },
  "language_info": {
   "codemirror_mode": {
    "name": "ipython",
    "version": 3
   },
   "file_extension": ".py",
   "mimetype": "text/x-python",
   "name": "python",
   "nbconvert_exporter": "python",
   "pygments_lexer": "ipython3",
   "version": "3.8.8"
  }
 },
 "nbformat": 4,
 "nbformat_minor": 5
}
