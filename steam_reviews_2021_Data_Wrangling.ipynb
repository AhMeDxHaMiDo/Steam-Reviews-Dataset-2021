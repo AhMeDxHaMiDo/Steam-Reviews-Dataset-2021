{
 "cells": [
  {
   "cell_type": "markdown",
   "metadata": {},
   "source": [
    "# Steam Reviews 2021"
   ]
  },
  {
   "cell_type": "markdown",
   "metadata": {},
   "source": [
    "## Table of Contents\n",
    "<ol>\n",
    "<li><a href=\"#intro\"><strong>Introduction</strong></a></li>\n",
    "    <ul>\n",
    "        <li><a href=\"#Dictionary\">Data Dictionary</a></li>\n",
    "    </ul>\n",
    "<br>\n",
    "<li><a href=\"#Wrangling\"><strong>Data Wrangling</strong></a></li>\n",
    "    <ul>\n",
    "        <li><a href=\"#Gather\">Gather</a></li>\n",
    "    </ul>\n",
    "    <ul>\n",
    "        <li><a href=\"#Assess\">Assess</a></li>\n",
    "            <ul>\n",
    "                <li><a href=\"#Quality\">Quality issues</a></li>\n",
    "            </ul>\n",
    "            <ul>\n",
    "                <li><a href=\"#Tidiness\">Tidiness Issues</a></li>\n",
    "            </ul>\n",
    "    </ul>\n",
    "    <ul>\n",
    "        <li><a href=\"#Clean\">Clean</a></li>\n",
    "            <ul>\n",
    "                <li><a href=\"#Define\">Define</a></li>\n",
    "            </ul>\n",
    "            <ul>\n",
    "                <li><a href=\"#Code\">Code</a></li>\n",
    "            </ul>\n",
    "            <ul>\n",
    "                <li><a href=\"#Test\">Test</a></li>\n",
    "            </ul>\n",
    "    </ul>"
   ]
  },
  {
   "cell_type": "markdown",
   "metadata": {},
   "source": [
    "<a id='intro'></a>\n",
    "## 1. Introduction\n",
    "\n",
    "This notebook is a side notebook for the Data Wrangling part of our dataset. We will explore, assess, and clean the original dataset, and export the cleaned version to be used directly in our main notebook."
   ]
  },
  {
   "cell_type": "markdown",
   "metadata": {},
   "source": [
    "<a id='Dictionary'></a>\n",
    "### Data Dictionary\n",
    "Here's a describtion for the attributes:\n",
    "* What game was the review written for: app_id, app_name ;\n",
    "* in what language was the review: language ;\n",
    "* whether it recommends or not recommended;\n",
    "* information about the review: review_id, review;\n",
    "* the time review was written and the time it was updated: timestamp_created, timestamp_updated\n",
    "* how useful the review was: votes_helpful, votes_funny, weighted_vote_score;\n",
    "* how many comments (replies) were written on the review comment_count\n",
    "* whether the author bought the game or received it for free: steam_purchase,received_for_free;\n",
    "* whether the author wrote a review when the game was in pre-release: written_during_early_access.\n",
    "\n",
    "* Information about the Author (steam account): their identification key: author.steamid;\n",
    "* how many games he has: author.num_games_owned;\n",
    "* how many reviews he wrote: author.num_reviews;\n",
    "* how many hours he played in total: author.playtime_forever;\n",
    "* whether he played in the last two weeks: author.playtime_last_two_weeks;\n",
    "* how long he played the game to write a review: author.playtime_at_review;\n",
    "* the date of his last game: author.last_played;"
   ]
  },
  {
   "cell_type": "markdown",
   "metadata": {},
   "source": [
    "<a id='Wrangling'></a>\n",
    "## 2. Data Wrangling\n",
    "<a id='Gather'></a>\n",
    "### a) Gathering the Data"
   ]
  },
  {
   "cell_type": "markdown",
   "metadata": {},
   "source": [
    "Importing the necessary libraries"
   ]
  },
  {
   "cell_type": "code",
   "execution_count": 1,
   "metadata": {},
   "outputs": [],
   "source": [
    "import numpy as np\n",
    "import pandas as pd\n",
    "\n",
    "import seaborn as sns\n",
    "import matplotlib.pyplot as plt\n",
    "%matplotlib inline\n",
    "\n",
    "\n",
    "from datetime import datetime"
   ]
  },
  {
   "cell_type": "markdown",
   "metadata": {},
   "source": [
    "Since the data is already ready on Kaggle and we don't need to scrap it neither download it from Steam API, we will just download it directly from Kaggle.\n",
    "\n",
    "However, the size of data is 8 gigs so we have to either import only the necessary columns of or load it batch by batch. For the sake of first  exploration, I'll load all attributes except of review attribute which holds the string review of each entry. Such attribute takes so much unecessary storage that we don't need at all.\n",
    "\n",
    "Now, we can work on just 3 gigs of storage for the entire dataset. After, analyzing the data and define the major issues and clean them. I will work only on the necessary attributes to address each question in our EDA instead of working with the whole data including the unncessary attributes.\n",
    "\n",
    "I expect to spend a bunch of time analyzing the data and cleaning it properly, and spend much less time covering our EDA."
   ]
  },
  {
   "cell_type": "markdown",
   "metadata": {},
   "source": [
    "---"
   ]
  },
  {
   "cell_type": "markdown",
   "metadata": {},
   "source": [
    "Reading the dataset columns."
   ]
  },
  {
   "cell_type": "code",
   "execution_count": 2,
   "metadata": {},
   "outputs": [
    {
     "name": "stdout",
     "output_type": "stream",
     "text": [
      "['Unnamed: 0', 'app_id', 'app_name', 'review_id', 'language', 'review', 'timestamp_created', 'timestamp_updated', 'recommended', 'votes_helpful', 'votes_funny', 'weighted_vote_score', 'comment_count', 'steam_purchase', 'received_for_free', 'written_during_early_access', 'author.steamid', 'author.num_games_owned', 'author.num_reviews', 'author.playtime_forever', 'author.playtime_last_two_weeks', 'author.playtime_at_review', 'author.last_played']\n"
     ]
    }
   ],
   "source": [
    "cols = list(pd.read_csv(\"steam_reviews.csv\", nrows =1))\n",
    "print(cols)"
   ]
  },
  {
   "cell_type": "markdown",
   "metadata": {},
   "source": [
    "Localizing the index of the review attribute programatically."
   ]
  },
  {
   "cell_type": "code",
   "execution_count": 3,
   "metadata": {},
   "outputs": [
    {
     "data": {
      "text/plain": [
       "5"
      ]
     },
     "execution_count": 3,
     "metadata": {},
     "output_type": "execute_result"
    }
   ],
   "source": [
    "review_col_idx = cols.index('review')\n",
    "review_col_idx"
   ]
  },
  {
   "cell_type": "markdown",
   "metadata": {},
   "source": [
    "Loading all the attributes except for the review in our dataframe."
   ]
  },
  {
   "cell_type": "code",
   "execution_count": 4,
   "metadata": {},
   "outputs": [],
   "source": [
    "df = pd.read_csv('steam_reviews.csv', #nrows=5, \n",
    "                 usecols=[i for i in range(1, len(cols)) if i!=review_col_idx])"
   ]
  },
  {
   "cell_type": "markdown",
   "metadata": {},
   "source": [
    "Let's get an idea about the rows, columns, names and length."
   ]
  },
  {
   "cell_type": "code",
   "execution_count": 5,
   "metadata": {},
   "outputs": [
    {
     "data": {
      "text/plain": [
       "Index(['app_id', 'app_name', 'review_id', 'language', 'timestamp_created',\n",
       "       'timestamp_updated', 'recommended', 'votes_helpful', 'votes_funny',\n",
       "       'weighted_vote_score', 'comment_count', 'steam_purchase',\n",
       "       'received_for_free', 'written_during_early_access', 'author.steamid',\n",
       "       'author.num_games_owned', 'author.num_reviews',\n",
       "       'author.playtime_forever', 'author.playtime_last_two_weeks',\n",
       "       'author.playtime_at_review', 'author.last_played'],\n",
       "      dtype='object')"
      ]
     },
     "execution_count": 5,
     "metadata": {},
     "output_type": "execute_result"
    }
   ],
   "source": [
    "df.columns"
   ]
  },
  {
   "cell_type": "code",
   "execution_count": 6,
   "metadata": {},
   "outputs": [
    {
     "data": {
      "text/plain": [
       "(21747371, 21)"
      ]
     },
     "metadata": {},
     "output_type": "display_data"
    },
    {
     "data": {
      "text/html": [
       "<div>\n",
       "<style scoped>\n",
       "    .dataframe tbody tr th:only-of-type {\n",
       "        vertical-align: middle;\n",
       "    }\n",
       "\n",
       "    .dataframe tbody tr th {\n",
       "        vertical-align: top;\n",
       "    }\n",
       "\n",
       "    .dataframe thead th {\n",
       "        text-align: right;\n",
       "    }\n",
       "</style>\n",
       "<table border=\"1\" class=\"dataframe\">\n",
       "  <thead>\n",
       "    <tr style=\"text-align: right;\">\n",
       "      <th></th>\n",
       "      <th>app_id</th>\n",
       "      <th>app_name</th>\n",
       "      <th>review_id</th>\n",
       "      <th>language</th>\n",
       "      <th>timestamp_created</th>\n",
       "      <th>timestamp_updated</th>\n",
       "      <th>recommended</th>\n",
       "      <th>votes_helpful</th>\n",
       "      <th>votes_funny</th>\n",
       "      <th>weighted_vote_score</th>\n",
       "      <th>...</th>\n",
       "      <th>steam_purchase</th>\n",
       "      <th>received_for_free</th>\n",
       "      <th>written_during_early_access</th>\n",
       "      <th>author.steamid</th>\n",
       "      <th>author.num_games_owned</th>\n",
       "      <th>author.num_reviews</th>\n",
       "      <th>author.playtime_forever</th>\n",
       "      <th>author.playtime_last_two_weeks</th>\n",
       "      <th>author.playtime_at_review</th>\n",
       "      <th>author.last_played</th>\n",
       "    </tr>\n",
       "  </thead>\n",
       "  <tbody>\n",
       "    <tr>\n",
       "      <th>0</th>\n",
       "      <td>292030</td>\n",
       "      <td>The Witcher 3: Wild Hunt</td>\n",
       "      <td>85185598</td>\n",
       "      <td>schinese</td>\n",
       "      <td>1611381629</td>\n",
       "      <td>1611381629</td>\n",
       "      <td>True</td>\n",
       "      <td>0</td>\n",
       "      <td>0</td>\n",
       "      <td>0.0</td>\n",
       "      <td>...</td>\n",
       "      <td>True</td>\n",
       "      <td>False</td>\n",
       "      <td>False</td>\n",
       "      <td>76561199095369542</td>\n",
       "      <td>6</td>\n",
       "      <td>2</td>\n",
       "      <td>1909.0</td>\n",
       "      <td>1448.0</td>\n",
       "      <td>1909.0</td>\n",
       "      <td>1.611343e+09</td>\n",
       "    </tr>\n",
       "    <tr>\n",
       "      <th>1</th>\n",
       "      <td>292030</td>\n",
       "      <td>The Witcher 3: Wild Hunt</td>\n",
       "      <td>85185250</td>\n",
       "      <td>schinese</td>\n",
       "      <td>1611381030</td>\n",
       "      <td>1611381030</td>\n",
       "      <td>True</td>\n",
       "      <td>0</td>\n",
       "      <td>0</td>\n",
       "      <td>0.0</td>\n",
       "      <td>...</td>\n",
       "      <td>True</td>\n",
       "      <td>False</td>\n",
       "      <td>False</td>\n",
       "      <td>76561198949504115</td>\n",
       "      <td>30</td>\n",
       "      <td>10</td>\n",
       "      <td>2764.0</td>\n",
       "      <td>2743.0</td>\n",
       "      <td>2674.0</td>\n",
       "      <td>1.611386e+09</td>\n",
       "    </tr>\n",
       "  </tbody>\n",
       "</table>\n",
       "<p>2 rows × 21 columns</p>\n",
       "</div>"
      ],
      "text/plain": [
       "   app_id                  app_name  review_id  language  timestamp_created  \\\n",
       "0  292030  The Witcher 3: Wild Hunt   85185598  schinese         1611381629   \n",
       "1  292030  The Witcher 3: Wild Hunt   85185250  schinese         1611381030   \n",
       "\n",
       "   timestamp_updated  recommended  votes_helpful  votes_funny  \\\n",
       "0         1611381629         True              0            0   \n",
       "1         1611381030         True              0            0   \n",
       "\n",
       "   weighted_vote_score  ...  steam_purchase  received_for_free  \\\n",
       "0                  0.0  ...            True              False   \n",
       "1                  0.0  ...            True              False   \n",
       "\n",
       "   written_during_early_access     author.steamid  author.num_games_owned  \\\n",
       "0                        False  76561199095369542                       6   \n",
       "1                        False  76561198949504115                      30   \n",
       "\n",
       "   author.num_reviews  author.playtime_forever  \\\n",
       "0                   2                   1909.0   \n",
       "1                  10                   2764.0   \n",
       "\n",
       "   author.playtime_last_two_weeks  author.playtime_at_review  \\\n",
       "0                          1448.0                     1909.0   \n",
       "1                          2743.0                     2674.0   \n",
       "\n",
       "   author.last_played  \n",
       "0        1.611343e+09  \n",
       "1        1.611386e+09  \n",
       "\n",
       "[2 rows x 21 columns]"
      ]
     },
     "metadata": {},
     "output_type": "display_data"
    },
    {
     "data": {
      "text/html": [
       "<div>\n",
       "<style scoped>\n",
       "    .dataframe tbody tr th:only-of-type {\n",
       "        vertical-align: middle;\n",
       "    }\n",
       "\n",
       "    .dataframe tbody tr th {\n",
       "        vertical-align: top;\n",
       "    }\n",
       "\n",
       "    .dataframe thead th {\n",
       "        text-align: right;\n",
       "    }\n",
       "</style>\n",
       "<table border=\"1\" class=\"dataframe\">\n",
       "  <thead>\n",
       "    <tr style=\"text-align: right;\">\n",
       "      <th></th>\n",
       "      <th>app_id</th>\n",
       "      <th>app_name</th>\n",
       "      <th>review_id</th>\n",
       "      <th>language</th>\n",
       "      <th>timestamp_created</th>\n",
       "      <th>timestamp_updated</th>\n",
       "      <th>recommended</th>\n",
       "      <th>votes_helpful</th>\n",
       "      <th>votes_funny</th>\n",
       "      <th>weighted_vote_score</th>\n",
       "      <th>...</th>\n",
       "      <th>steam_purchase</th>\n",
       "      <th>received_for_free</th>\n",
       "      <th>written_during_early_access</th>\n",
       "      <th>author.steamid</th>\n",
       "      <th>author.num_games_owned</th>\n",
       "      <th>author.num_reviews</th>\n",
       "      <th>author.playtime_forever</th>\n",
       "      <th>author.playtime_last_two_weeks</th>\n",
       "      <th>author.playtime_at_review</th>\n",
       "      <th>author.last_played</th>\n",
       "    </tr>\n",
       "  </thead>\n",
       "  <tbody>\n",
       "    <tr>\n",
       "      <th>21747369</th>\n",
       "      <td>546560</td>\n",
       "      <td>Half-Life: Alyx</td>\n",
       "      <td>65645066</td>\n",
       "      <td>english</td>\n",
       "      <td>1584986631</td>\n",
       "      <td>1586382422</td>\n",
       "      <td>True</td>\n",
       "      <td>0</td>\n",
       "      <td>0</td>\n",
       "      <td>0.386022</td>\n",
       "      <td>...</td>\n",
       "      <td>True</td>\n",
       "      <td>False</td>\n",
       "      <td>False</td>\n",
       "      <td>76561198041763187</td>\n",
       "      <td>140</td>\n",
       "      <td>3</td>\n",
       "      <td>210.0</td>\n",
       "      <td>0.0</td>\n",
       "      <td>12.0</td>\n",
       "      <td>1.589715e+09</td>\n",
       "    </tr>\n",
       "    <tr>\n",
       "      <th>21747370</th>\n",
       "      <td>546560</td>\n",
       "      <td>Half-Life: Alyx</td>\n",
       "      <td>65644930</td>\n",
       "      <td>schinese</td>\n",
       "      <td>1584986505</td>\n",
       "      <td>1592060800</td>\n",
       "      <td>True</td>\n",
       "      <td>0</td>\n",
       "      <td>0</td>\n",
       "      <td>0.416107</td>\n",
       "      <td>...</td>\n",
       "      <td>True</td>\n",
       "      <td>False</td>\n",
       "      <td>False</td>\n",
       "      <td>76561198116747069</td>\n",
       "      <td>253</td>\n",
       "      <td>7</td>\n",
       "      <td>1062.0</td>\n",
       "      <td>0.0</td>\n",
       "      <td>8.0</td>\n",
       "      <td>1.602858e+09</td>\n",
       "    </tr>\n",
       "  </tbody>\n",
       "</table>\n",
       "<p>2 rows × 21 columns</p>\n",
       "</div>"
      ],
      "text/plain": [
       "          app_id         app_name  review_id  language  timestamp_created  \\\n",
       "21747369  546560  Half-Life: Alyx   65645066   english         1584986631   \n",
       "21747370  546560  Half-Life: Alyx   65644930  schinese         1584986505   \n",
       "\n",
       "          timestamp_updated  recommended  votes_helpful  votes_funny  \\\n",
       "21747369         1586382422         True              0            0   \n",
       "21747370         1592060800         True              0            0   \n",
       "\n",
       "          weighted_vote_score  ...  steam_purchase  received_for_free  \\\n",
       "21747369             0.386022  ...            True              False   \n",
       "21747370             0.416107  ...            True              False   \n",
       "\n",
       "          written_during_early_access     author.steamid  \\\n",
       "21747369                        False  76561198041763187   \n",
       "21747370                        False  76561198116747069   \n",
       "\n",
       "          author.num_games_owned  author.num_reviews  author.playtime_forever  \\\n",
       "21747369                     140                   3                    210.0   \n",
       "21747370                     253                   7                   1062.0   \n",
       "\n",
       "          author.playtime_last_two_weeks  author.playtime_at_review  \\\n",
       "21747369                             0.0                       12.0   \n",
       "21747370                             0.0                        8.0   \n",
       "\n",
       "          author.last_played  \n",
       "21747369        1.589715e+09  \n",
       "21747370        1.602858e+09  \n",
       "\n",
       "[2 rows x 21 columns]"
      ]
     },
     "execution_count": 6,
     "metadata": {},
     "output_type": "execute_result"
    }
   ],
   "source": [
    "display(df.shape)\n",
    "display(df.head(2))\n",
    "df.tail(2)"
   ]
  },
  {
   "cell_type": "markdown",
   "metadata": {},
   "source": [
    "Let's get an idea about the timestamp."
   ]
  },
  {
   "cell_type": "code",
   "execution_count": 7,
   "metadata": {},
   "outputs": [
    {
     "data": {
      "text/plain": [
       "0   2021-01-23 06:00:29\n",
       "1   2021-01-23 05:50:30\n",
       "2   2021-01-23 05:46:40\n",
       "3   2021-01-23 05:32:50\n",
       "4   2021-01-23 05:23:47\n",
       "5   2021-01-23 05:21:04\n",
       "6   2021-01-23 05:18:11\n",
       "7   2021-01-23 05:05:12\n",
       "8   2021-01-23 04:55:03\n",
       "9   2021-01-23 04:43:25\n",
       "Name: timestamp_updated, dtype: datetime64[ns]"
      ]
     },
     "execution_count": 7,
     "metadata": {},
     "output_type": "execute_result"
    }
   ],
   "source": [
    "pd.to_datetime(df.timestamp_updated[:10], origin='unix', unit='s')"
   ]
  },
  {
   "cell_type": "markdown",
   "metadata": {},
   "source": [
    "Let's display the number of duplicated entries."
   ]
  },
  {
   "cell_type": "code",
   "execution_count": 8,
   "metadata": {},
   "outputs": [
    {
     "data": {
      "text/plain": [
       "134927"
      ]
     },
     "execution_count": 8,
     "metadata": {},
     "output_type": "execute_result"
    }
   ],
   "source": [
    "df.duplicated().sum()"
   ]
  },
  {
   "cell_type": "markdown",
   "metadata": {},
   "source": [
    "Let's make sure that there are no more duplicated entries by review_id."
   ]
  },
  {
   "cell_type": "code",
   "execution_count": 9,
   "metadata": {},
   "outputs": [
    {
     "data": {
      "text/plain": [
       "134927"
      ]
     },
     "execution_count": 9,
     "metadata": {},
     "output_type": "execute_result"
    }
   ],
   "source": [
    "df.review_id.duplicated().sum()"
   ]
  },
  {
   "cell_type": "code",
   "execution_count": 10,
   "metadata": {},
   "outputs": [
    {
     "data": {
      "text/plain": [
       "0"
      ]
     },
     "execution_count": 10,
     "metadata": {},
     "output_type": "execute_result"
    }
   ],
   "source": [
    "(df.duplicated() != df.review_id.duplicated()).sum()"
   ]
  },
  {
   "cell_type": "markdown",
   "metadata": {},
   "source": [
    "Well, then the duplicated entries are already duplicated by review_id so we have a total of 134927 duplicated reviews not more.\n",
    "\n",
    "---"
   ]
  },
  {
   "cell_type": "markdown",
   "metadata": {},
   "source": [
    "Now, let's display some duplicated entries to make sure of it."
   ]
  },
  {
   "cell_type": "code",
   "execution_count": 11,
   "metadata": {
    "scrolled": false
   },
   "outputs": [
    {
     "data": {
      "text/html": [
       "<div>\n",
       "<style scoped>\n",
       "    .dataframe tbody tr th:only-of-type {\n",
       "        vertical-align: middle;\n",
       "    }\n",
       "\n",
       "    .dataframe tbody tr th {\n",
       "        vertical-align: top;\n",
       "    }\n",
       "\n",
       "    .dataframe thead th {\n",
       "        text-align: right;\n",
       "    }\n",
       "</style>\n",
       "<table border=\"1\" class=\"dataframe\">\n",
       "  <thead>\n",
       "    <tr style=\"text-align: right;\">\n",
       "      <th></th>\n",
       "      <th>app_id</th>\n",
       "      <th>app_name</th>\n",
       "      <th>review_id</th>\n",
       "      <th>language</th>\n",
       "      <th>timestamp_created</th>\n",
       "      <th>timestamp_updated</th>\n",
       "      <th>recommended</th>\n",
       "      <th>votes_helpful</th>\n",
       "      <th>votes_funny</th>\n",
       "      <th>weighted_vote_score</th>\n",
       "      <th>...</th>\n",
       "      <th>steam_purchase</th>\n",
       "      <th>received_for_free</th>\n",
       "      <th>written_during_early_access</th>\n",
       "      <th>author.steamid</th>\n",
       "      <th>author.num_games_owned</th>\n",
       "      <th>author.num_reviews</th>\n",
       "      <th>author.playtime_forever</th>\n",
       "      <th>author.playtime_last_two_weeks</th>\n",
       "      <th>author.playtime_at_review</th>\n",
       "      <th>author.last_played</th>\n",
       "    </tr>\n",
       "  </thead>\n",
       "  <tbody>\n",
       "    <tr>\n",
       "      <th>21471076</th>\n",
       "      <td>367520</td>\n",
       "      <td>Hollow Knight</td>\n",
       "      <td>84774500</td>\n",
       "      <td>english</td>\n",
       "      <td>1610783706</td>\n",
       "      <td>1610783706</td>\n",
       "      <td>True</td>\n",
       "      <td>0</td>\n",
       "      <td>0</td>\n",
       "      <td>0.0</td>\n",
       "      <td>...</td>\n",
       "      <td>True</td>\n",
       "      <td>False</td>\n",
       "      <td>False</td>\n",
       "      <td>76561198831230953</td>\n",
       "      <td>11</td>\n",
       "      <td>7</td>\n",
       "      <td>262.0</td>\n",
       "      <td>232.0</td>\n",
       "      <td>242.0</td>\n",
       "      <td>1.610785e+09</td>\n",
       "    </tr>\n",
       "    <tr>\n",
       "      <th>21471077</th>\n",
       "      <td>367520</td>\n",
       "      <td>Hollow Knight</td>\n",
       "      <td>84774347</td>\n",
       "      <td>koreana</td>\n",
       "      <td>1610783377</td>\n",
       "      <td>1610783377</td>\n",
       "      <td>True</td>\n",
       "      <td>0</td>\n",
       "      <td>0</td>\n",
       "      <td>0.0</td>\n",
       "      <td>...</td>\n",
       "      <td>True</td>\n",
       "      <td>False</td>\n",
       "      <td>False</td>\n",
       "      <td>76561198282451594</td>\n",
       "      <td>38</td>\n",
       "      <td>9</td>\n",
       "      <td>5425.0</td>\n",
       "      <td>9.0</td>\n",
       "      <td>5425.0</td>\n",
       "      <td>1.610374e+09</td>\n",
       "    </tr>\n",
       "    <tr>\n",
       "      <th>21471078</th>\n",
       "      <td>367520</td>\n",
       "      <td>Hollow Knight</td>\n",
       "      <td>84774076</td>\n",
       "      <td>spanish</td>\n",
       "      <td>1610782931</td>\n",
       "      <td>1610782931</td>\n",
       "      <td>True</td>\n",
       "      <td>0</td>\n",
       "      <td>0</td>\n",
       "      <td>0.0</td>\n",
       "      <td>...</td>\n",
       "      <td>True</td>\n",
       "      <td>False</td>\n",
       "      <td>False</td>\n",
       "      <td>76561198322215609</td>\n",
       "      <td>8</td>\n",
       "      <td>3</td>\n",
       "      <td>1195.0</td>\n",
       "      <td>0.0</td>\n",
       "      <td>1195.0</td>\n",
       "      <td>1.609371e+09</td>\n",
       "    </tr>\n",
       "    <tr>\n",
       "      <th>21471079</th>\n",
       "      <td>367520</td>\n",
       "      <td>Hollow Knight</td>\n",
       "      <td>84773959</td>\n",
       "      <td>schinese</td>\n",
       "      <td>1610782697</td>\n",
       "      <td>1610782697</td>\n",
       "      <td>True</td>\n",
       "      <td>0</td>\n",
       "      <td>0</td>\n",
       "      <td>0.0</td>\n",
       "      <td>...</td>\n",
       "      <td>True</td>\n",
       "      <td>False</td>\n",
       "      <td>False</td>\n",
       "      <td>76561198090497424</td>\n",
       "      <td>198</td>\n",
       "      <td>53</td>\n",
       "      <td>2440.0</td>\n",
       "      <td>1510.0</td>\n",
       "      <td>2440.0</td>\n",
       "      <td>1.610773e+09</td>\n",
       "    </tr>\n",
       "    <tr>\n",
       "      <th>21471080</th>\n",
       "      <td>367520</td>\n",
       "      <td>Hollow Knight</td>\n",
       "      <td>84773690</td>\n",
       "      <td>english</td>\n",
       "      <td>1610782249</td>\n",
       "      <td>1610782249</td>\n",
       "      <td>True</td>\n",
       "      <td>0</td>\n",
       "      <td>0</td>\n",
       "      <td>0.0</td>\n",
       "      <td>...</td>\n",
       "      <td>False</td>\n",
       "      <td>False</td>\n",
       "      <td>False</td>\n",
       "      <td>76561198150429807</td>\n",
       "      <td>15</td>\n",
       "      <td>2</td>\n",
       "      <td>2405.0</td>\n",
       "      <td>1839.0</td>\n",
       "      <td>2314.0</td>\n",
       "      <td>1.610788e+09</td>\n",
       "    </tr>\n",
       "  </tbody>\n",
       "</table>\n",
       "<p>5 rows × 21 columns</p>\n",
       "</div>"
      ],
      "text/plain": [
       "          app_id       app_name  review_id  language  timestamp_created  \\\n",
       "21471076  367520  Hollow Knight   84774500   english         1610783706   \n",
       "21471077  367520  Hollow Knight   84774347   koreana         1610783377   \n",
       "21471078  367520  Hollow Knight   84774076   spanish         1610782931   \n",
       "21471079  367520  Hollow Knight   84773959  schinese         1610782697   \n",
       "21471080  367520  Hollow Knight   84773690   english         1610782249   \n",
       "\n",
       "          timestamp_updated  recommended  votes_helpful  votes_funny  \\\n",
       "21471076         1610783706         True              0            0   \n",
       "21471077         1610783377         True              0            0   \n",
       "21471078         1610782931         True              0            0   \n",
       "21471079         1610782697         True              0            0   \n",
       "21471080         1610782249         True              0            0   \n",
       "\n",
       "          weighted_vote_score  ...  steam_purchase  received_for_free  \\\n",
       "21471076                  0.0  ...            True              False   \n",
       "21471077                  0.0  ...            True              False   \n",
       "21471078                  0.0  ...            True              False   \n",
       "21471079                  0.0  ...            True              False   \n",
       "21471080                  0.0  ...           False              False   \n",
       "\n",
       "          written_during_early_access     author.steamid  \\\n",
       "21471076                        False  76561198831230953   \n",
       "21471077                        False  76561198282451594   \n",
       "21471078                        False  76561198322215609   \n",
       "21471079                        False  76561198090497424   \n",
       "21471080                        False  76561198150429807   \n",
       "\n",
       "          author.num_games_owned  author.num_reviews  author.playtime_forever  \\\n",
       "21471076                      11                   7                    262.0   \n",
       "21471077                      38                   9                   5425.0   \n",
       "21471078                       8                   3                   1195.0   \n",
       "21471079                     198                  53                   2440.0   \n",
       "21471080                      15                   2                   2405.0   \n",
       "\n",
       "          author.playtime_last_two_weeks  author.playtime_at_review  \\\n",
       "21471076                           232.0                      242.0   \n",
       "21471077                             9.0                     5425.0   \n",
       "21471078                             0.0                     1195.0   \n",
       "21471079                          1510.0                     2440.0   \n",
       "21471080                          1839.0                     2314.0   \n",
       "\n",
       "          author.last_played  \n",
       "21471076        1.610785e+09  \n",
       "21471077        1.610374e+09  \n",
       "21471078        1.609371e+09  \n",
       "21471079        1.610773e+09  \n",
       "21471080        1.610788e+09  \n",
       "\n",
       "[5 rows x 21 columns]"
      ]
     },
     "execution_count": 11,
     "metadata": {},
     "output_type": "execute_result"
    }
   ],
   "source": [
    "df[df.review_id.duplicated()].head()"
   ]
  },
  {
   "cell_type": "code",
   "execution_count": 12,
   "metadata": {},
   "outputs": [
    {
     "data": {
      "text/html": [
       "<div>\n",
       "<style scoped>\n",
       "    .dataframe tbody tr th:only-of-type {\n",
       "        vertical-align: middle;\n",
       "    }\n",
       "\n",
       "    .dataframe tbody tr th {\n",
       "        vertical-align: top;\n",
       "    }\n",
       "\n",
       "    .dataframe thead th {\n",
       "        text-align: right;\n",
       "    }\n",
       "</style>\n",
       "<table border=\"1\" class=\"dataframe\">\n",
       "  <thead>\n",
       "    <tr style=\"text-align: right;\">\n",
       "      <th></th>\n",
       "      <th>app_id</th>\n",
       "      <th>app_name</th>\n",
       "      <th>review_id</th>\n",
       "      <th>language</th>\n",
       "      <th>timestamp_created</th>\n",
       "      <th>timestamp_updated</th>\n",
       "      <th>recommended</th>\n",
       "      <th>votes_helpful</th>\n",
       "      <th>votes_funny</th>\n",
       "      <th>weighted_vote_score</th>\n",
       "      <th>...</th>\n",
       "      <th>steam_purchase</th>\n",
       "      <th>received_for_free</th>\n",
       "      <th>written_during_early_access</th>\n",
       "      <th>author.steamid</th>\n",
       "      <th>author.num_games_owned</th>\n",
       "      <th>author.num_reviews</th>\n",
       "      <th>author.playtime_forever</th>\n",
       "      <th>author.playtime_last_two_weeks</th>\n",
       "      <th>author.playtime_at_review</th>\n",
       "      <th>author.last_played</th>\n",
       "    </tr>\n",
       "  </thead>\n",
       "  <tbody>\n",
       "    <tr>\n",
       "      <th>3609983</th>\n",
       "      <td>367520</td>\n",
       "      <td>Hollow Knight</td>\n",
       "      <td>84774500</td>\n",
       "      <td>english</td>\n",
       "      <td>1610783706</td>\n",
       "      <td>1610783706</td>\n",
       "      <td>True</td>\n",
       "      <td>0</td>\n",
       "      <td>0</td>\n",
       "      <td>0.0</td>\n",
       "      <td>...</td>\n",
       "      <td>True</td>\n",
       "      <td>False</td>\n",
       "      <td>False</td>\n",
       "      <td>76561198831230953</td>\n",
       "      <td>11</td>\n",
       "      <td>7</td>\n",
       "      <td>262.0</td>\n",
       "      <td>232.0</td>\n",
       "      <td>242.0</td>\n",
       "      <td>1.610785e+09</td>\n",
       "    </tr>\n",
       "    <tr>\n",
       "      <th>21471076</th>\n",
       "      <td>367520</td>\n",
       "      <td>Hollow Knight</td>\n",
       "      <td>84774500</td>\n",
       "      <td>english</td>\n",
       "      <td>1610783706</td>\n",
       "      <td>1610783706</td>\n",
       "      <td>True</td>\n",
       "      <td>0</td>\n",
       "      <td>0</td>\n",
       "      <td>0.0</td>\n",
       "      <td>...</td>\n",
       "      <td>True</td>\n",
       "      <td>False</td>\n",
       "      <td>False</td>\n",
       "      <td>76561198831230953</td>\n",
       "      <td>11</td>\n",
       "      <td>7</td>\n",
       "      <td>262.0</td>\n",
       "      <td>232.0</td>\n",
       "      <td>242.0</td>\n",
       "      <td>1.610785e+09</td>\n",
       "    </tr>\n",
       "  </tbody>\n",
       "</table>\n",
       "<p>2 rows × 21 columns</p>\n",
       "</div>"
      ],
      "text/plain": [
       "          app_id       app_name  review_id language  timestamp_created  \\\n",
       "3609983   367520  Hollow Knight   84774500  english         1610783706   \n",
       "21471076  367520  Hollow Knight   84774500  english         1610783706   \n",
       "\n",
       "          timestamp_updated  recommended  votes_helpful  votes_funny  \\\n",
       "3609983          1610783706         True              0            0   \n",
       "21471076         1610783706         True              0            0   \n",
       "\n",
       "          weighted_vote_score  ...  steam_purchase  received_for_free  \\\n",
       "3609983                   0.0  ...            True              False   \n",
       "21471076                  0.0  ...            True              False   \n",
       "\n",
       "          written_during_early_access     author.steamid  \\\n",
       "3609983                         False  76561198831230953   \n",
       "21471076                        False  76561198831230953   \n",
       "\n",
       "          author.num_games_owned  author.num_reviews  author.playtime_forever  \\\n",
       "3609983                       11                   7                    262.0   \n",
       "21471076                      11                   7                    262.0   \n",
       "\n",
       "          author.playtime_last_two_weeks  author.playtime_at_review  \\\n",
       "3609983                            232.0                      242.0   \n",
       "21471076                           232.0                      242.0   \n",
       "\n",
       "          author.last_played  \n",
       "3609983         1.610785e+09  \n",
       "21471076        1.610785e+09  \n",
       "\n",
       "[2 rows x 21 columns]"
      ]
     },
     "execution_count": 12,
     "metadata": {},
     "output_type": "execute_result"
    }
   ],
   "source": [
    "df[df.review_id == 84774500]"
   ]
  },
  {
   "cell_type": "markdown",
   "metadata": {},
   "source": [
    "---\n",
    "Let's get an idea about the value uniqueness of each attribute/feature."
   ]
  },
  {
   "cell_type": "code",
   "execution_count": 13,
   "metadata": {},
   "outputs": [
    {
     "data": {
      "text/plain": [
       "app_id                                 315\n",
       "app_name                               315\n",
       "review_id                         21612444\n",
       "language                                28\n",
       "timestamp_created                 18932372\n",
       "timestamp_updated                 18739831\n",
       "recommended                              2\n",
       "votes_helpful                         2716\n",
       "votes_funny                           2215\n",
       "weighted_vote_score                1304322\n",
       "comment_count                          351\n",
       "steam_purchase                           2\n",
       "received_for_free                        2\n",
       "written_during_early_access              2\n",
       "author.steamid                    12406560\n",
       "author.num_games_owned                7097\n",
       "author.num_reviews                     983\n",
       "author.playtime_forever             297891\n",
       "author.playtime_last_two_weeks       17261\n",
       "author.playtime_at_review           218306\n",
       "author.last_played                16009725\n",
       "dtype: int64"
      ]
     },
     "execution_count": 13,
     "metadata": {},
     "output_type": "execute_result"
    }
   ],
   "source": [
    "df.nunique()"
   ]
  },
  {
   "cell_type": "markdown",
   "metadata": {},
   "source": [
    "---\n",
    "Let's check if there's null values in any attribute, and how many if there are."
   ]
  },
  {
   "cell_type": "code",
   "execution_count": 14,
   "metadata": {},
   "outputs": [
    {
     "data": {
      "text/plain": [
       "app_id                                0\n",
       "app_name                              0\n",
       "review_id                             0\n",
       "language                              0\n",
       "timestamp_created                     0\n",
       "timestamp_updated                     0\n",
       "recommended                           0\n",
       "votes_helpful                         0\n",
       "votes_funny                           0\n",
       "weighted_vote_score                   0\n",
       "comment_count                         0\n",
       "steam_purchase                        0\n",
       "received_for_free                     0\n",
       "written_during_early_access           0\n",
       "author.steamid                        0\n",
       "author.num_games_owned                0\n",
       "author.num_reviews                    0\n",
       "author.playtime_forever               2\n",
       "author.playtime_last_two_weeks        2\n",
       "author.playtime_at_review         25682\n",
       "author.last_played                    2\n",
       "dtype: int64"
      ]
     },
     "execution_count": 14,
     "metadata": {},
     "output_type": "execute_result"
    }
   ],
   "source": [
    "df.isnull().sum()"
   ]
  },
  {
   "cell_type": "markdown",
   "metadata": {},
   "source": [
    "---\n",
    "Let's get an idea about the datatype of each attribute."
   ]
  },
  {
   "cell_type": "code",
   "execution_count": 15,
   "metadata": {},
   "outputs": [
    {
     "name": "stdout",
     "output_type": "stream",
     "text": [
      "<class 'pandas.core.frame.DataFrame'>\n",
      "RangeIndex: 21747371 entries, 0 to 21747370\n",
      "Data columns (total 21 columns):\n",
      " #   Column                          Dtype  \n",
      "---  ------                          -----  \n",
      " 0   app_id                          int64  \n",
      " 1   app_name                        object \n",
      " 2   review_id                       int64  \n",
      " 3   language                        object \n",
      " 4   timestamp_created               int64  \n",
      " 5   timestamp_updated               int64  \n",
      " 6   recommended                     bool   \n",
      " 7   votes_helpful                   int64  \n",
      " 8   votes_funny                     int64  \n",
      " 9   weighted_vote_score             float64\n",
      " 10  comment_count                   int64  \n",
      " 11  steam_purchase                  bool   \n",
      " 12  received_for_free               bool   \n",
      " 13  written_during_early_access     bool   \n",
      " 14  author.steamid                  int64  \n",
      " 15  author.num_games_owned          int64  \n",
      " 16  author.num_reviews              int64  \n",
      " 17  author.playtime_forever         float64\n",
      " 18  author.playtime_last_two_weeks  float64\n",
      " 19  author.playtime_at_review       float64\n",
      " 20  author.last_played              float64\n",
      "dtypes: bool(4), float64(5), int64(10), object(2)\n",
      "memory usage: 2.8+ GB\n"
     ]
    }
   ],
   "source": [
    "df.info()"
   ]
  },
  {
   "cell_type": "markdown",
   "metadata": {},
   "source": [
    "---\n",
    "Let's get an idea about the statistical description of each numerical column (Before Cleaning)."
   ]
  },
  {
   "cell_type": "code",
   "execution_count": 16,
   "metadata": {},
   "outputs": [
    {
     "data": {
      "text/html": [
       "<div>\n",
       "<style scoped>\n",
       "    .dataframe tbody tr th:only-of-type {\n",
       "        vertical-align: middle;\n",
       "    }\n",
       "\n",
       "    .dataframe tbody tr th {\n",
       "        vertical-align: top;\n",
       "    }\n",
       "\n",
       "    .dataframe thead th {\n",
       "        text-align: right;\n",
       "    }\n",
       "</style>\n",
       "<table border=\"1\" class=\"dataframe\">\n",
       "  <thead>\n",
       "    <tr style=\"text-align: right;\">\n",
       "      <th></th>\n",
       "      <th>app_id</th>\n",
       "      <th>review_id</th>\n",
       "      <th>timestamp_created</th>\n",
       "      <th>timestamp_updated</th>\n",
       "      <th>votes_helpful</th>\n",
       "      <th>votes_funny</th>\n",
       "      <th>weighted_vote_score</th>\n",
       "      <th>comment_count</th>\n",
       "      <th>author.steamid</th>\n",
       "      <th>author.num_games_owned</th>\n",
       "      <th>author.num_reviews</th>\n",
       "      <th>author.playtime_forever</th>\n",
       "      <th>author.playtime_last_two_weeks</th>\n",
       "      <th>author.playtime_at_review</th>\n",
       "      <th>author.last_played</th>\n",
       "    </tr>\n",
       "  </thead>\n",
       "  <tbody>\n",
       "    <tr>\n",
       "      <th>count</th>\n",
       "      <td>2.174737e+07</td>\n",
       "      <td>2.174737e+07</td>\n",
       "      <td>2.174737e+07</td>\n",
       "      <td>2.174737e+07</td>\n",
       "      <td>2.174737e+07</td>\n",
       "      <td>2.174737e+07</td>\n",
       "      <td>2.174737e+07</td>\n",
       "      <td>2.174737e+07</td>\n",
       "      <td>2.174737e+07</td>\n",
       "      <td>2.174737e+07</td>\n",
       "      <td>2.174737e+07</td>\n",
       "      <td>2.174737e+07</td>\n",
       "      <td>2.174737e+07</td>\n",
       "      <td>2.172169e+07</td>\n",
       "      <td>2.174737e+07</td>\n",
       "    </tr>\n",
       "    <tr>\n",
       "      <th>mean</th>\n",
       "      <td>3.928181e+05</td>\n",
       "      <td>5.187500e+07</td>\n",
       "      <td>1.544432e+09</td>\n",
       "      <td>1.547556e+09</td>\n",
       "      <td>4.044689e+05</td>\n",
       "      <td>1.267917e+05</td>\n",
       "      <td>1.654424e-01</td>\n",
       "      <td>1.308768e-01</td>\n",
       "      <td>7.656120e+16</td>\n",
       "      <td>1.011300e+06</td>\n",
       "      <td>4.044775e+05</td>\n",
       "      <td>1.609105e+04</td>\n",
       "      <td>1.555421e+02</td>\n",
       "      <td>8.807421e+03</td>\n",
       "      <td>1.580505e+09</td>\n",
       "    </tr>\n",
       "    <tr>\n",
       "      <th>std</th>\n",
       "      <td>2.480977e+05</td>\n",
       "      <td>2.084267e+07</td>\n",
       "      <td>5.812194e+07</td>\n",
       "      <td>5.689899e+07</td>\n",
       "      <td>1.333741e+09</td>\n",
       "      <td>2.333553e+07</td>\n",
       "      <td>2.434006e-01</td>\n",
       "      <td>2.199398e+00</td>\n",
       "      <td>3.179438e+08</td>\n",
       "      <td>2.108829e+09</td>\n",
       "      <td>1.333741e+09</td>\n",
       "      <td>3.743057e+04</td>\n",
       "      <td>7.300488e+02</td>\n",
       "      <td>2.388553e+04</td>\n",
       "      <td>4.676178e+07</td>\n",
       "    </tr>\n",
       "    <tr>\n",
       "      <th>min</th>\n",
       "      <td>7.000000e+01</td>\n",
       "      <td>4.300000e+01</td>\n",
       "      <td>1.290198e+09</td>\n",
       "      <td>1.290198e+09</td>\n",
       "      <td>0.000000e+00</td>\n",
       "      <td>0.000000e+00</td>\n",
       "      <td>0.000000e+00</td>\n",
       "      <td>0.000000e+00</td>\n",
       "      <td>7.656120e+16</td>\n",
       "      <td>0.000000e+00</td>\n",
       "      <td>1.000000e+00</td>\n",
       "      <td>0.000000e+00</td>\n",
       "      <td>0.000000e+00</td>\n",
       "      <td>1.000000e+00</td>\n",
       "      <td>0.000000e+00</td>\n",
       "    </tr>\n",
       "    <tr>\n",
       "      <th>25%</th>\n",
       "      <td>2.427600e+05</td>\n",
       "      <td>3.639355e+07</td>\n",
       "      <td>1.510223e+09</td>\n",
       "      <td>1.511729e+09</td>\n",
       "      <td>0.000000e+00</td>\n",
       "      <td>0.000000e+00</td>\n",
       "      <td>0.000000e+00</td>\n",
       "      <td>0.000000e+00</td>\n",
       "      <td>7.656120e+16</td>\n",
       "      <td>2.200000e+01</td>\n",
       "      <td>2.000000e+00</td>\n",
       "      <td>1.250000e+03</td>\n",
       "      <td>0.000000e+00</td>\n",
       "      <td>5.590000e+02</td>\n",
       "      <td>1.573329e+09</td>\n",
       "    </tr>\n",
       "    <tr>\n",
       "      <th>50%</th>\n",
       "      <td>3.595500e+05</td>\n",
       "      <td>5.384058e+07</td>\n",
       "      <td>1.562446e+09</td>\n",
       "      <td>1.572189e+09</td>\n",
       "      <td>0.000000e+00</td>\n",
       "      <td>0.000000e+00</td>\n",
       "      <td>0.000000e+00</td>\n",
       "      <td>0.000000e+00</td>\n",
       "      <td>7.656120e+16</td>\n",
       "      <td>6.100000e+01</td>\n",
       "      <td>4.000000e+00</td>\n",
       "      <td>4.307000e+03</td>\n",
       "      <td>0.000000e+00</td>\n",
       "      <td>1.881000e+03</td>\n",
       "      <td>1.599058e+09</td>\n",
       "    </tr>\n",
       "    <tr>\n",
       "      <th>75%</th>\n",
       "      <td>5.780800e+05</td>\n",
       "      <td>6.928793e+07</td>\n",
       "      <td>1.589696e+09</td>\n",
       "      <td>1.591403e+09</td>\n",
       "      <td>1.000000e+00</td>\n",
       "      <td>0.000000e+00</td>\n",
       "      <td>4.827586e-01</td>\n",
       "      <td>0.000000e+00</td>\n",
       "      <td>7.656120e+16</td>\n",
       "      <td>1.450000e+02</td>\n",
       "      <td>1.000000e+01</td>\n",
       "      <td>1.491200e+04</td>\n",
       "      <td>0.000000e+00</td>\n",
       "      <td>6.823000e+03</td>\n",
       "      <td>1.609002e+09</td>\n",
       "    </tr>\n",
       "    <tr>\n",
       "      <th>max</th>\n",
       "      <td>1.291340e+06</td>\n",
       "      <td>8.521867e+07</td>\n",
       "      <td>1.611426e+09</td>\n",
       "      <td>2.283383e+09</td>\n",
       "      <td>4.398047e+12</td>\n",
       "      <td>4.294967e+09</td>\n",
       "      <td>9.959868e-01</td>\n",
       "      <td>4.893000e+03</td>\n",
       "      <td>7.656120e+16</td>\n",
       "      <td>4.398047e+12</td>\n",
       "      <td>4.398047e+12</td>\n",
       "      <td>3.744943e+06</td>\n",
       "      <td>2.703900e+04</td>\n",
       "      <td>3.228103e+06</td>\n",
       "      <td>1.611434e+09</td>\n",
       "    </tr>\n",
       "  </tbody>\n",
       "</table>\n",
       "</div>"
      ],
      "text/plain": [
       "             app_id     review_id  timestamp_created  timestamp_updated  \\\n",
       "count  2.174737e+07  2.174737e+07       2.174737e+07       2.174737e+07   \n",
       "mean   3.928181e+05  5.187500e+07       1.544432e+09       1.547556e+09   \n",
       "std    2.480977e+05  2.084267e+07       5.812194e+07       5.689899e+07   \n",
       "min    7.000000e+01  4.300000e+01       1.290198e+09       1.290198e+09   \n",
       "25%    2.427600e+05  3.639355e+07       1.510223e+09       1.511729e+09   \n",
       "50%    3.595500e+05  5.384058e+07       1.562446e+09       1.572189e+09   \n",
       "75%    5.780800e+05  6.928793e+07       1.589696e+09       1.591403e+09   \n",
       "max    1.291340e+06  8.521867e+07       1.611426e+09       2.283383e+09   \n",
       "\n",
       "       votes_helpful   votes_funny  weighted_vote_score  comment_count  \\\n",
       "count   2.174737e+07  2.174737e+07         2.174737e+07   2.174737e+07   \n",
       "mean    4.044689e+05  1.267917e+05         1.654424e-01   1.308768e-01   \n",
       "std     1.333741e+09  2.333553e+07         2.434006e-01   2.199398e+00   \n",
       "min     0.000000e+00  0.000000e+00         0.000000e+00   0.000000e+00   \n",
       "25%     0.000000e+00  0.000000e+00         0.000000e+00   0.000000e+00   \n",
       "50%     0.000000e+00  0.000000e+00         0.000000e+00   0.000000e+00   \n",
       "75%     1.000000e+00  0.000000e+00         4.827586e-01   0.000000e+00   \n",
       "max     4.398047e+12  4.294967e+09         9.959868e-01   4.893000e+03   \n",
       "\n",
       "       author.steamid  author.num_games_owned  author.num_reviews  \\\n",
       "count    2.174737e+07            2.174737e+07        2.174737e+07   \n",
       "mean     7.656120e+16            1.011300e+06        4.044775e+05   \n",
       "std      3.179438e+08            2.108829e+09        1.333741e+09   \n",
       "min      7.656120e+16            0.000000e+00        1.000000e+00   \n",
       "25%      7.656120e+16            2.200000e+01        2.000000e+00   \n",
       "50%      7.656120e+16            6.100000e+01        4.000000e+00   \n",
       "75%      7.656120e+16            1.450000e+02        1.000000e+01   \n",
       "max      7.656120e+16            4.398047e+12        4.398047e+12   \n",
       "\n",
       "       author.playtime_forever  author.playtime_last_two_weeks  \\\n",
       "count             2.174737e+07                    2.174737e+07   \n",
       "mean              1.609105e+04                    1.555421e+02   \n",
       "std               3.743057e+04                    7.300488e+02   \n",
       "min               0.000000e+00                    0.000000e+00   \n",
       "25%               1.250000e+03                    0.000000e+00   \n",
       "50%               4.307000e+03                    0.000000e+00   \n",
       "75%               1.491200e+04                    0.000000e+00   \n",
       "max               3.744943e+06                    2.703900e+04   \n",
       "\n",
       "       author.playtime_at_review  author.last_played  \n",
       "count               2.172169e+07        2.174737e+07  \n",
       "mean                8.807421e+03        1.580505e+09  \n",
       "std                 2.388553e+04        4.676178e+07  \n",
       "min                 1.000000e+00        0.000000e+00  \n",
       "25%                 5.590000e+02        1.573329e+09  \n",
       "50%                 1.881000e+03        1.599058e+09  \n",
       "75%                 6.823000e+03        1.609002e+09  \n",
       "max                 3.228103e+06        1.611434e+09  "
      ]
     },
     "execution_count": 16,
     "metadata": {},
     "output_type": "execute_result"
    }
   ],
   "source": [
    "df.describe()"
   ]
  },
  {
   "cell_type": "markdown",
   "metadata": {},
   "source": [
    "---\n",
    "---"
   ]
  },
  {
   "cell_type": "markdown",
   "metadata": {},
   "source": [
    "<a id='Assess'></a>\n",
    "### b) Assessing\n",
    "<a id='Quality'></a>\n",
    "#### i) Quality Issues\n",
    "Check the columns that I will work on, and check the values range, uniqueness, and validation.\n",
    "* timestamp_created, timestamp_updated, and author.last_played attributes are integers not datetime.\n",
    "* There are 134927 duplicated entries.\n",
    "\n",
    "\n",
    "<a id='Tidiness'></a>\n",
    "#### ii) Tidiness Issues\n",
    "* The author attributes describe the author variables which are different than the review attributes."
   ]
  },
  {
   "cell_type": "markdown",
   "metadata": {},
   "source": [
    "<a id='Clean'></a>\n",
    "### c) Cleaning\n",
    "<a id='Define'></a>\n",
    "#### i) Define\n",
    "* Convert timestamp_created, timestamp_updated, and author.last_played attributes to datetime type.\n",
    "* Drop the duplicated entries.\n",
    "* Create a separate table for author attributes."
   ]
  },
  {
   "cell_type": "markdown",
   "metadata": {},
   "source": [
    "<a id='Code'></a>\n",
    "#### ii) Code"
   ]
  },
  {
   "cell_type": "code",
   "execution_count": 17,
   "metadata": {},
   "outputs": [],
   "source": [
    "df_cleaned = df.copy()"
   ]
  },
  {
   "cell_type": "markdown",
   "metadata": {},
   "source": [
    "Convert timestamp_created, timestamp_updated, and author.last_played attributes to datetime type."
   ]
  },
  {
   "cell_type": "code",
   "execution_count": 18,
   "metadata": {},
   "outputs": [],
   "source": [
    "dates_attributes = ['timestamp_created', 'timestamp_updated', 'author.last_played']\n",
    "for i in dates_attributes:\n",
    "    df_cleaned[i] = pd.to_datetime(df_cleaned[i], origin='unix', unit='s')"
   ]
  },
  {
   "cell_type": "markdown",
   "metadata": {},
   "source": [
    "Drop the duplicated entries."
   ]
  },
  {
   "cell_type": "code",
   "execution_count": 19,
   "metadata": {},
   "outputs": [],
   "source": [
    "df_cleaned.drop_duplicates(inplace=True)\n",
    "df_cleaned.reset_index(drop=True, inplace=True)"
   ]
  },
  {
   "cell_type": "markdown",
   "metadata": {},
   "source": [
    "Create a separate table for author attributes."
   ]
  },
  {
   "cell_type": "code",
   "execution_count": 20,
   "metadata": {},
   "outputs": [
    {
     "data": {
      "text/plain": [
       "Index(['app_id', 'app_name', 'review_id', 'language', 'timestamp_created',\n",
       "       'timestamp_updated', 'recommended', 'votes_helpful', 'votes_funny',\n",
       "       'weighted_vote_score', 'comment_count', 'steam_purchase',\n",
       "       'received_for_free', 'written_during_early_access', 'author.steamid',\n",
       "       'author.num_games_owned', 'author.num_reviews',\n",
       "       'author.playtime_forever', 'author.playtime_last_two_weeks',\n",
       "       'author.playtime_at_review', 'author.last_played'],\n",
       "      dtype='object')"
      ]
     },
     "execution_count": 20,
     "metadata": {},
     "output_type": "execute_result"
    }
   ],
   "source": [
    "df_cleaned.columns"
   ]
  },
  {
   "cell_type": "code",
   "execution_count": 21,
   "metadata": {},
   "outputs": [],
   "source": [
    "df_reviews = df_cleaned[df_cleaned.columns[:-7]].copy()"
   ]
  },
  {
   "cell_type": "code",
   "execution_count": 22,
   "metadata": {},
   "outputs": [],
   "source": [
    "df_author_cols = [df_cleaned.columns[2]]\n",
    "df_author_cols.extend(list(df_cleaned[df_cleaned.columns[-7:]].columns))\n",
    "\n",
    "df_author = df_cleaned[df_author_cols].copy()"
   ]
  },
  {
   "cell_type": "markdown",
   "metadata": {},
   "source": [
    "<a id='Test'></a>\n",
    "#### iii) Test"
   ]
  },
  {
   "cell_type": "markdown",
   "metadata": {},
   "source": [
    "Testing the converted date attributes after converting them to datetime."
   ]
  },
  {
   "cell_type": "code",
   "execution_count": 23,
   "metadata": {},
   "outputs": [
    {
     "name": "stdout",
     "output_type": "stream",
     "text": [
      "Attribute Name: timestamp_created \tEntry[0]: 2021-01-23 06:00:29\n",
      "Attribute Name: timestamp_updated \tEntry[0]: 2021-01-23 06:00:29\n",
      "Attribute Name: author.last_played \tEntry[0]: 2021-01-22 19:23:03\n"
     ]
    }
   ],
   "source": [
    "for i in dates_attributes:\n",
    "    print('Attribute Name: {} \\tEntry[0]: {}'.format(i, df_cleaned[i][0]))"
   ]
  },
  {
   "cell_type": "code",
   "execution_count": 24,
   "metadata": {},
   "outputs": [
    {
     "name": "stdout",
     "output_type": "stream",
     "text": [
      "<class 'pandas.core.frame.DataFrame'>\n",
      "RangeIndex: 21612444 entries, 0 to 21612443\n",
      "Data columns (total 3 columns):\n",
      " #   Column              Dtype         \n",
      "---  ------              -----         \n",
      " 0   timestamp_created   datetime64[ns]\n",
      " 1   timestamp_updated   datetime64[ns]\n",
      " 2   author.last_played  datetime64[ns]\n",
      "dtypes: datetime64[ns](3)\n",
      "memory usage: 494.7 MB\n"
     ]
    }
   ],
   "source": [
    "df_cleaned[dates_attributes].info()"
   ]
  },
  {
   "cell_type": "code",
   "execution_count": 25,
   "metadata": {},
   "outputs": [
    {
     "name": "stdout",
     "output_type": "stream",
     "text": [
      "<class 'pandas.core.frame.DataFrame'>\n",
      "RangeIndex: 21612444 entries, 0 to 21612443\n",
      "Data columns (total 2 columns):\n",
      " #   Column             Dtype         \n",
      "---  ------             -----         \n",
      " 0   timestamp_created  datetime64[ns]\n",
      " 1   timestamp_updated  datetime64[ns]\n",
      "dtypes: datetime64[ns](2)\n",
      "memory usage: 329.8 MB\n"
     ]
    }
   ],
   "source": [
    "df_reviews[dates_attributes[:-1]].info()"
   ]
  },
  {
   "cell_type": "code",
   "execution_count": 26,
   "metadata": {},
   "outputs": [
    {
     "name": "stdout",
     "output_type": "stream",
     "text": [
      "<class 'pandas.core.frame.DataFrame'>\n",
      "RangeIndex: 21612444 entries, 0 to 21612443\n",
      "Data columns (total 1 columns):\n",
      " #   Column              Dtype         \n",
      "---  ------              -----         \n",
      " 0   author.last_played  datetime64[ns]\n",
      "dtypes: datetime64[ns](1)\n",
      "memory usage: 164.9 MB\n"
     ]
    }
   ],
   "source": [
    "df_author[[dates_attributes[-1]]].info()"
   ]
  },
  {
   "cell_type": "markdown",
   "metadata": {},
   "source": [
    "Testing the number of duplicated entries after dropping them."
   ]
  },
  {
   "cell_type": "code",
   "execution_count": 27,
   "metadata": {},
   "outputs": [
    {
     "data": {
      "text/plain": [
       "0"
      ]
     },
     "execution_count": 27,
     "metadata": {},
     "output_type": "execute_result"
    }
   ],
   "source": [
    "df_cleaned.duplicated().sum()"
   ]
  },
  {
   "cell_type": "markdown",
   "metadata": {},
   "source": [
    "Displaying the new 2 dataframes.\n",
    "1. reviews dataframe."
   ]
  },
  {
   "cell_type": "code",
   "execution_count": 28,
   "metadata": {},
   "outputs": [
    {
     "data": {
      "text/plain": [
       "(21612444, 14)"
      ]
     },
     "metadata": {},
     "output_type": "display_data"
    },
    {
     "data": {
      "text/html": [
       "<div>\n",
       "<style scoped>\n",
       "    .dataframe tbody tr th:only-of-type {\n",
       "        vertical-align: middle;\n",
       "    }\n",
       "\n",
       "    .dataframe tbody tr th {\n",
       "        vertical-align: top;\n",
       "    }\n",
       "\n",
       "    .dataframe thead th {\n",
       "        text-align: right;\n",
       "    }\n",
       "</style>\n",
       "<table border=\"1\" class=\"dataframe\">\n",
       "  <thead>\n",
       "    <tr style=\"text-align: right;\">\n",
       "      <th></th>\n",
       "      <th>app_id</th>\n",
       "      <th>app_name</th>\n",
       "      <th>review_id</th>\n",
       "      <th>language</th>\n",
       "      <th>timestamp_created</th>\n",
       "      <th>timestamp_updated</th>\n",
       "      <th>recommended</th>\n",
       "      <th>votes_helpful</th>\n",
       "      <th>votes_funny</th>\n",
       "      <th>weighted_vote_score</th>\n",
       "      <th>comment_count</th>\n",
       "      <th>steam_purchase</th>\n",
       "      <th>received_for_free</th>\n",
       "      <th>written_during_early_access</th>\n",
       "    </tr>\n",
       "  </thead>\n",
       "  <tbody>\n",
       "    <tr>\n",
       "      <th>0</th>\n",
       "      <td>292030</td>\n",
       "      <td>The Witcher 3: Wild Hunt</td>\n",
       "      <td>85185598</td>\n",
       "      <td>schinese</td>\n",
       "      <td>2021-01-23 06:00:29</td>\n",
       "      <td>2021-01-23 06:00:29</td>\n",
       "      <td>True</td>\n",
       "      <td>0</td>\n",
       "      <td>0</td>\n",
       "      <td>0.0</td>\n",
       "      <td>0</td>\n",
       "      <td>True</td>\n",
       "      <td>False</td>\n",
       "      <td>False</td>\n",
       "    </tr>\n",
       "    <tr>\n",
       "      <th>1</th>\n",
       "      <td>292030</td>\n",
       "      <td>The Witcher 3: Wild Hunt</td>\n",
       "      <td>85185250</td>\n",
       "      <td>schinese</td>\n",
       "      <td>2021-01-23 05:50:30</td>\n",
       "      <td>2021-01-23 05:50:30</td>\n",
       "      <td>True</td>\n",
       "      <td>0</td>\n",
       "      <td>0</td>\n",
       "      <td>0.0</td>\n",
       "      <td>0</td>\n",
       "      <td>True</td>\n",
       "      <td>False</td>\n",
       "      <td>False</td>\n",
       "    </tr>\n",
       "  </tbody>\n",
       "</table>\n",
       "</div>"
      ],
      "text/plain": [
       "   app_id                  app_name  review_id  language   timestamp_created  \\\n",
       "0  292030  The Witcher 3: Wild Hunt   85185598  schinese 2021-01-23 06:00:29   \n",
       "1  292030  The Witcher 3: Wild Hunt   85185250  schinese 2021-01-23 05:50:30   \n",
       "\n",
       "    timestamp_updated  recommended  votes_helpful  votes_funny  \\\n",
       "0 2021-01-23 06:00:29         True              0            0   \n",
       "1 2021-01-23 05:50:30         True              0            0   \n",
       "\n",
       "   weighted_vote_score  comment_count  steam_purchase  received_for_free  \\\n",
       "0                  0.0              0            True              False   \n",
       "1                  0.0              0            True              False   \n",
       "\n",
       "   written_during_early_access  \n",
       "0                        False  \n",
       "1                        False  "
      ]
     },
     "metadata": {},
     "output_type": "display_data"
    },
    {
     "data": {
      "text/html": [
       "<div>\n",
       "<style scoped>\n",
       "    .dataframe tbody tr th:only-of-type {\n",
       "        vertical-align: middle;\n",
       "    }\n",
       "\n",
       "    .dataframe tbody tr th {\n",
       "        vertical-align: top;\n",
       "    }\n",
       "\n",
       "    .dataframe thead th {\n",
       "        text-align: right;\n",
       "    }\n",
       "</style>\n",
       "<table border=\"1\" class=\"dataframe\">\n",
       "  <thead>\n",
       "    <tr style=\"text-align: right;\">\n",
       "      <th></th>\n",
       "      <th>app_id</th>\n",
       "      <th>app_name</th>\n",
       "      <th>review_id</th>\n",
       "      <th>language</th>\n",
       "      <th>timestamp_created</th>\n",
       "      <th>timestamp_updated</th>\n",
       "      <th>recommended</th>\n",
       "      <th>votes_helpful</th>\n",
       "      <th>votes_funny</th>\n",
       "      <th>weighted_vote_score</th>\n",
       "      <th>comment_count</th>\n",
       "      <th>steam_purchase</th>\n",
       "      <th>received_for_free</th>\n",
       "      <th>written_during_early_access</th>\n",
       "    </tr>\n",
       "  </thead>\n",
       "  <tbody>\n",
       "    <tr>\n",
       "      <th>21612442</th>\n",
       "      <td>546560</td>\n",
       "      <td>Half-Life: Alyx</td>\n",
       "      <td>65645066</td>\n",
       "      <td>english</td>\n",
       "      <td>2020-03-23 18:03:51</td>\n",
       "      <td>2020-04-08 21:47:02</td>\n",
       "      <td>True</td>\n",
       "      <td>0</td>\n",
       "      <td>0</td>\n",
       "      <td>0.386022</td>\n",
       "      <td>11</td>\n",
       "      <td>True</td>\n",
       "      <td>False</td>\n",
       "      <td>False</td>\n",
       "    </tr>\n",
       "    <tr>\n",
       "      <th>21612443</th>\n",
       "      <td>546560</td>\n",
       "      <td>Half-Life: Alyx</td>\n",
       "      <td>65644930</td>\n",
       "      <td>schinese</td>\n",
       "      <td>2020-03-23 18:01:45</td>\n",
       "      <td>2020-06-13 15:06:40</td>\n",
       "      <td>True</td>\n",
       "      <td>0</td>\n",
       "      <td>0</td>\n",
       "      <td>0.416107</td>\n",
       "      <td>5</td>\n",
       "      <td>True</td>\n",
       "      <td>False</td>\n",
       "      <td>False</td>\n",
       "    </tr>\n",
       "  </tbody>\n",
       "</table>\n",
       "</div>"
      ],
      "text/plain": [
       "          app_id         app_name  review_id  language   timestamp_created  \\\n",
       "21612442  546560  Half-Life: Alyx   65645066   english 2020-03-23 18:03:51   \n",
       "21612443  546560  Half-Life: Alyx   65644930  schinese 2020-03-23 18:01:45   \n",
       "\n",
       "           timestamp_updated  recommended  votes_helpful  votes_funny  \\\n",
       "21612442 2020-04-08 21:47:02         True              0            0   \n",
       "21612443 2020-06-13 15:06:40         True              0            0   \n",
       "\n",
       "          weighted_vote_score  comment_count  steam_purchase  \\\n",
       "21612442             0.386022             11            True   \n",
       "21612443             0.416107              5            True   \n",
       "\n",
       "          received_for_free  written_during_early_access  \n",
       "21612442              False                        False  \n",
       "21612443              False                        False  "
      ]
     },
     "execution_count": 28,
     "metadata": {},
     "output_type": "execute_result"
    }
   ],
   "source": [
    "display(df_reviews.shape)\n",
    "display(df_reviews.head(2))\n",
    "df_reviews.tail(2)"
   ]
  },
  {
   "cell_type": "markdown",
   "metadata": {},
   "source": [
    "2. author dataframe."
   ]
  },
  {
   "cell_type": "code",
   "execution_count": 29,
   "metadata": {},
   "outputs": [
    {
     "data": {
      "text/plain": [
       "(21612444, 8)"
      ]
     },
     "metadata": {},
     "output_type": "display_data"
    },
    {
     "data": {
      "text/html": [
       "<div>\n",
       "<style scoped>\n",
       "    .dataframe tbody tr th:only-of-type {\n",
       "        vertical-align: middle;\n",
       "    }\n",
       "\n",
       "    .dataframe tbody tr th {\n",
       "        vertical-align: top;\n",
       "    }\n",
       "\n",
       "    .dataframe thead th {\n",
       "        text-align: right;\n",
       "    }\n",
       "</style>\n",
       "<table border=\"1\" class=\"dataframe\">\n",
       "  <thead>\n",
       "    <tr style=\"text-align: right;\">\n",
       "      <th></th>\n",
       "      <th>review_id</th>\n",
       "      <th>author.steamid</th>\n",
       "      <th>author.num_games_owned</th>\n",
       "      <th>author.num_reviews</th>\n",
       "      <th>author.playtime_forever</th>\n",
       "      <th>author.playtime_last_two_weeks</th>\n",
       "      <th>author.playtime_at_review</th>\n",
       "      <th>author.last_played</th>\n",
       "    </tr>\n",
       "  </thead>\n",
       "  <tbody>\n",
       "    <tr>\n",
       "      <th>0</th>\n",
       "      <td>85185598</td>\n",
       "      <td>76561199095369542</td>\n",
       "      <td>6</td>\n",
       "      <td>2</td>\n",
       "      <td>1909.0</td>\n",
       "      <td>1448.0</td>\n",
       "      <td>1909.0</td>\n",
       "      <td>2021-01-22 19:23:03</td>\n",
       "    </tr>\n",
       "    <tr>\n",
       "      <th>1</th>\n",
       "      <td>85185250</td>\n",
       "      <td>76561198949504115</td>\n",
       "      <td>30</td>\n",
       "      <td>10</td>\n",
       "      <td>2764.0</td>\n",
       "      <td>2743.0</td>\n",
       "      <td>2674.0</td>\n",
       "      <td>2021-01-23 07:18:27</td>\n",
       "    </tr>\n",
       "  </tbody>\n",
       "</table>\n",
       "</div>"
      ],
      "text/plain": [
       "   review_id     author.steamid  author.num_games_owned  author.num_reviews  \\\n",
       "0   85185598  76561199095369542                       6                   2   \n",
       "1   85185250  76561198949504115                      30                  10   \n",
       "\n",
       "   author.playtime_forever  author.playtime_last_two_weeks  \\\n",
       "0                   1909.0                          1448.0   \n",
       "1                   2764.0                          2743.0   \n",
       "\n",
       "   author.playtime_at_review  author.last_played  \n",
       "0                     1909.0 2021-01-22 19:23:03  \n",
       "1                     2674.0 2021-01-23 07:18:27  "
      ]
     },
     "metadata": {},
     "output_type": "display_data"
    },
    {
     "data": {
      "text/html": [
       "<div>\n",
       "<style scoped>\n",
       "    .dataframe tbody tr th:only-of-type {\n",
       "        vertical-align: middle;\n",
       "    }\n",
       "\n",
       "    .dataframe tbody tr th {\n",
       "        vertical-align: top;\n",
       "    }\n",
       "\n",
       "    .dataframe thead th {\n",
       "        text-align: right;\n",
       "    }\n",
       "</style>\n",
       "<table border=\"1\" class=\"dataframe\">\n",
       "  <thead>\n",
       "    <tr style=\"text-align: right;\">\n",
       "      <th></th>\n",
       "      <th>review_id</th>\n",
       "      <th>author.steamid</th>\n",
       "      <th>author.num_games_owned</th>\n",
       "      <th>author.num_reviews</th>\n",
       "      <th>author.playtime_forever</th>\n",
       "      <th>author.playtime_last_two_weeks</th>\n",
       "      <th>author.playtime_at_review</th>\n",
       "      <th>author.last_played</th>\n",
       "    </tr>\n",
       "  </thead>\n",
       "  <tbody>\n",
       "    <tr>\n",
       "      <th>21612442</th>\n",
       "      <td>65645066</td>\n",
       "      <td>76561198041763187</td>\n",
       "      <td>140</td>\n",
       "      <td>3</td>\n",
       "      <td>210.0</td>\n",
       "      <td>0.0</td>\n",
       "      <td>12.0</td>\n",
       "      <td>2020-05-17 11:36:55</td>\n",
       "    </tr>\n",
       "    <tr>\n",
       "      <th>21612443</th>\n",
       "      <td>65644930</td>\n",
       "      <td>76561198116747069</td>\n",
       "      <td>253</td>\n",
       "      <td>7</td>\n",
       "      <td>1062.0</td>\n",
       "      <td>0.0</td>\n",
       "      <td>8.0</td>\n",
       "      <td>2020-10-16 14:12:23</td>\n",
       "    </tr>\n",
       "  </tbody>\n",
       "</table>\n",
       "</div>"
      ],
      "text/plain": [
       "          review_id     author.steamid  author.num_games_owned  \\\n",
       "21612442   65645066  76561198041763187                     140   \n",
       "21612443   65644930  76561198116747069                     253   \n",
       "\n",
       "          author.num_reviews  author.playtime_forever  \\\n",
       "21612442                   3                    210.0   \n",
       "21612443                   7                   1062.0   \n",
       "\n",
       "          author.playtime_last_two_weeks  author.playtime_at_review  \\\n",
       "21612442                             0.0                       12.0   \n",
       "21612443                             0.0                        8.0   \n",
       "\n",
       "          author.last_played  \n",
       "21612442 2020-05-17 11:36:55  \n",
       "21612443 2020-10-16 14:12:23  "
      ]
     },
     "execution_count": 29,
     "metadata": {},
     "output_type": "execute_result"
    }
   ],
   "source": [
    "display(df_author.shape)\n",
    "display(df_author.head(2))\n",
    "df_author.tail(2)"
   ]
  },
  {
   "cell_type": "markdown",
   "metadata": {},
   "source": [
    "Exporting the cleaned dataframes, so we don't have to run the whole cleaning process again each time."
   ]
  },
  {
   "cell_type": "code",
   "execution_count": 30,
   "metadata": {},
   "outputs": [],
   "source": [
    "df_cleaned.to_csv('df_cleaned.csv', index=False)\n",
    "df_reviews.to_csv('df_reviews.csv', index=False)\n",
    "df_author.to_csv('df_author.csv', index=False)"
   ]
  },
  {
   "cell_type": "markdown",
   "metadata": {},
   "source": [
    "Importing the exported dataframes and making sure to import the datetime attributes as datetime type not string."
   ]
  },
  {
   "cell_type": "code",
   "execution_count": 31,
   "metadata": {},
   "outputs": [],
   "source": [
    "dates_attributes = ['timestamp_created', 'timestamp_updated', 'author.last_played']\n",
    "\n",
    "#df_cleaned = pd.read_csv('df_cleaned.csv', parse_dates=dates_attributes)\n",
    "df_reviews = pd.read_csv('df_reviews.csv', parse_dates=dates_attributes[:-1])\n",
    "#df_author = pd.read_csv('df_author.csv', parse_dates=[dates_attributes[-1]])"
   ]
  },
  {
   "cell_type": "markdown",
   "metadata": {},
   "source": [
    "Check that the loaded date attributes in our cleaned dataset is loaded as datetime without any problem."
   ]
  },
  {
   "cell_type": "code",
   "execution_count": 32,
   "metadata": {},
   "outputs": [
    {
     "name": "stdout",
     "output_type": "stream",
     "text": [
      "<class 'pandas.core.frame.DataFrame'>\n",
      "RangeIndex: 21612444 entries, 0 to 21612443\n",
      "Data columns (total 2 columns):\n",
      " #   Column             Dtype         \n",
      "---  ------             -----         \n",
      " 0   timestamp_created  datetime64[ns]\n",
      " 1   timestamp_updated  datetime64[ns]\n",
      "dtypes: datetime64[ns](2)\n",
      "memory usage: 329.8 MB\n"
     ]
    }
   ],
   "source": [
    "df_reviews[dates_attributes[:-1]].info()"
   ]
  },
  {
   "cell_type": "markdown",
   "metadata": {},
   "source": [
    "Since, everything went well as we planned, it's time for EDA. \n",
    "There is a minor issue which is there are null values in two attributes (author.playtime_at_review & author.last_played) so we will handle them only in case we need to include them in our analysis."
   ]
  }
 ],
 "metadata": {
  "kernelspec": {
   "display_name": "Python 3",
   "language": "python",
   "name": "python3"
  },
  "language_info": {
   "codemirror_mode": {
    "name": "ipython",
    "version": 3
   },
   "file_extension": ".py",
   "mimetype": "text/x-python",
   "name": "python",
   "nbconvert_exporter": "python",
   "pygments_lexer": "ipython3",
   "version": "3.8.5"
  }
 },
 "nbformat": 4,
 "nbformat_minor": 4
}
