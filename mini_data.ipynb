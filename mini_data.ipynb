{
 "cells": [
  {
   "cell_type": "markdown",
   "id": "b194dd81-1921-4412-8f9a-0f9ee30cbd9a",
   "metadata": {},
   "source": [
    "# Import libreries"
   ]
  },
  {
   "cell_type": "code",
   "execution_count": 2,
   "id": "af00007e-f79c-40f9-86cd-9d0581bd8ea2",
   "metadata": {},
   "outputs": [],
   "source": [
    "import pandas as pd\n",
    "import numpy as np\n",
    "import math \n",
    "import matplotlib.pyplot as plt"
   ]
  },
  {
   "cell_type": "markdown",
   "id": "92499801-9cb5-45e6-b1cf-a5f90903eab8",
   "metadata": {},
   "source": [
    "## Import the mini_data set"
   ]
  },
  {
   "cell_type": "code",
   "execution_count": 3,
   "id": "e4320ee2-8169-40f4-850c-d70756cdd4ba",
   "metadata": {},
   "outputs": [],
   "source": [
    "# nrows = 3.000.000 \n",
    "nrows = 3000000\n",
    "dataset = pd.read_csv('./steam_reviews.csv', header='infer', nrows = nrows)"
   ]
  },
  {
   "cell_type": "markdown",
   "id": "acf96894-0c6b-41c9-a9b7-327eb3c76a7c",
   "metadata": {},
   "source": [
    "## Understand the dataset"
   ]
  },
  {
   "cell_type": "code",
   "execution_count": 4,
   "id": "ec3905d0-ff51-4f96-bcdd-9bdc1a292768",
   "metadata": {},
   "outputs": [
    {
     "data": {
      "text/plain": [
       "Index(['Unnamed: 0', 'app_id', 'app_name', 'review_id', 'language', 'review',\n",
       "       'timestamp_created', 'timestamp_updated', 'recommended',\n",
       "       'votes_helpful', 'votes_funny', 'weighted_vote_score', 'comment_count',\n",
       "       'steam_purchase', 'received_for_free', 'written_during_early_access',\n",
       "       'author.steamid', 'author.num_games_owned', 'author.num_reviews',\n",
       "       'author.playtime_forever', 'author.playtime_last_two_weeks',\n",
       "       'author.playtime_at_review', 'author.last_played'],\n",
       "      dtype='object')"
      ]
     },
     "execution_count": 4,
     "metadata": {},
     "output_type": "execute_result"
    }
   ],
   "source": [
    "dataset.columns"
   ]
  },
  {
   "cell_type": "code",
   "execution_count": 5,
   "id": "ff2285be-9624-4c2b-b947-9976431bf08e",
   "metadata": {},
   "outputs": [
    {
     "data": {
      "text/html": [
       "<div>\n",
       "<style scoped>\n",
       "    .dataframe tbody tr th:only-of-type {\n",
       "        vertical-align: middle;\n",
       "    }\n",
       "\n",
       "    .dataframe tbody tr th {\n",
       "        vertical-align: top;\n",
       "    }\n",
       "\n",
       "    .dataframe thead th {\n",
       "        text-align: right;\n",
       "    }\n",
       "</style>\n",
       "<table border=\"1\" class=\"dataframe\">\n",
       "  <thead>\n",
       "    <tr style=\"text-align: right;\">\n",
       "      <th></th>\n",
       "      <th>Unnamed: 0</th>\n",
       "      <th>app_id</th>\n",
       "      <th>app_name</th>\n",
       "      <th>review_id</th>\n",
       "      <th>language</th>\n",
       "      <th>review</th>\n",
       "      <th>timestamp_created</th>\n",
       "      <th>timestamp_updated</th>\n",
       "      <th>recommended</th>\n",
       "      <th>votes_helpful</th>\n",
       "      <th>...</th>\n",
       "      <th>steam_purchase</th>\n",
       "      <th>received_for_free</th>\n",
       "      <th>written_during_early_access</th>\n",
       "      <th>author.steamid</th>\n",
       "      <th>author.num_games_owned</th>\n",
       "      <th>author.num_reviews</th>\n",
       "      <th>author.playtime_forever</th>\n",
       "      <th>author.playtime_last_two_weeks</th>\n",
       "      <th>author.playtime_at_review</th>\n",
       "      <th>author.last_played</th>\n",
       "    </tr>\n",
       "  </thead>\n",
       "  <tbody>\n",
       "    <tr>\n",
       "      <th>0</th>\n",
       "      <td>0</td>\n",
       "      <td>292030</td>\n",
       "      <td>The Witcher 3: Wild Hunt</td>\n",
       "      <td>85185598</td>\n",
       "      <td>schinese</td>\n",
       "      <td>不玩此生遗憾，RPG游戏里的天花板，太吸引人了</td>\n",
       "      <td>1611381629</td>\n",
       "      <td>1611381629</td>\n",
       "      <td>True</td>\n",
       "      <td>0</td>\n",
       "      <td>...</td>\n",
       "      <td>True</td>\n",
       "      <td>False</td>\n",
       "      <td>False</td>\n",
       "      <td>76561199095369542</td>\n",
       "      <td>6</td>\n",
       "      <td>2</td>\n",
       "      <td>1909.0</td>\n",
       "      <td>1448.0</td>\n",
       "      <td>1909.0</td>\n",
       "      <td>1.611343e+09</td>\n",
       "    </tr>\n",
       "    <tr>\n",
       "      <th>1</th>\n",
       "      <td>1</td>\n",
       "      <td>292030</td>\n",
       "      <td>The Witcher 3: Wild Hunt</td>\n",
       "      <td>85185250</td>\n",
       "      <td>schinese</td>\n",
       "      <td>拔DIAO无情打桩机--杰洛特!!!</td>\n",
       "      <td>1611381030</td>\n",
       "      <td>1611381030</td>\n",
       "      <td>True</td>\n",
       "      <td>0</td>\n",
       "      <td>...</td>\n",
       "      <td>True</td>\n",
       "      <td>False</td>\n",
       "      <td>False</td>\n",
       "      <td>76561198949504115</td>\n",
       "      <td>30</td>\n",
       "      <td>10</td>\n",
       "      <td>2764.0</td>\n",
       "      <td>2743.0</td>\n",
       "      <td>2674.0</td>\n",
       "      <td>1.611386e+09</td>\n",
       "    </tr>\n",
       "    <tr>\n",
       "      <th>2</th>\n",
       "      <td>2</td>\n",
       "      <td>292030</td>\n",
       "      <td>The Witcher 3: Wild Hunt</td>\n",
       "      <td>85185111</td>\n",
       "      <td>schinese</td>\n",
       "      <td>巫师3NB</td>\n",
       "      <td>1611380800</td>\n",
       "      <td>1611380800</td>\n",
       "      <td>True</td>\n",
       "      <td>0</td>\n",
       "      <td>...</td>\n",
       "      <td>True</td>\n",
       "      <td>False</td>\n",
       "      <td>False</td>\n",
       "      <td>76561199090098988</td>\n",
       "      <td>5</td>\n",
       "      <td>1</td>\n",
       "      <td>1061.0</td>\n",
       "      <td>1061.0</td>\n",
       "      <td>1060.0</td>\n",
       "      <td>1.611384e+09</td>\n",
       "    </tr>\n",
       "    <tr>\n",
       "      <th>3</th>\n",
       "      <td>3</td>\n",
       "      <td>292030</td>\n",
       "      <td>The Witcher 3: Wild Hunt</td>\n",
       "      <td>85184605</td>\n",
       "      <td>english</td>\n",
       "      <td>One of the best RPG's of all time, worthy of a...</td>\n",
       "      <td>1611379970</td>\n",
       "      <td>1611379970</td>\n",
       "      <td>True</td>\n",
       "      <td>0</td>\n",
       "      <td>...</td>\n",
       "      <td>True</td>\n",
       "      <td>False</td>\n",
       "      <td>False</td>\n",
       "      <td>76561199054755373</td>\n",
       "      <td>5</td>\n",
       "      <td>3</td>\n",
       "      <td>5587.0</td>\n",
       "      <td>3200.0</td>\n",
       "      <td>5524.0</td>\n",
       "      <td>1.611384e+09</td>\n",
       "    </tr>\n",
       "    <tr>\n",
       "      <th>4</th>\n",
       "      <td>4</td>\n",
       "      <td>292030</td>\n",
       "      <td>The Witcher 3: Wild Hunt</td>\n",
       "      <td>85184287</td>\n",
       "      <td>schinese</td>\n",
       "      <td>大作</td>\n",
       "      <td>1611379427</td>\n",
       "      <td>1611379427</td>\n",
       "      <td>True</td>\n",
       "      <td>0</td>\n",
       "      <td>...</td>\n",
       "      <td>True</td>\n",
       "      <td>False</td>\n",
       "      <td>False</td>\n",
       "      <td>76561199028326951</td>\n",
       "      <td>7</td>\n",
       "      <td>4</td>\n",
       "      <td>217.0</td>\n",
       "      <td>42.0</td>\n",
       "      <td>217.0</td>\n",
       "      <td>1.610788e+09</td>\n",
       "    </tr>\n",
       "  </tbody>\n",
       "</table>\n",
       "<p>5 rows × 23 columns</p>\n",
       "</div>"
      ],
      "text/plain": [
       "   Unnamed: 0  app_id                  app_name  review_id  language  \\\n",
       "0           0  292030  The Witcher 3: Wild Hunt   85185598  schinese   \n",
       "1           1  292030  The Witcher 3: Wild Hunt   85185250  schinese   \n",
       "2           2  292030  The Witcher 3: Wild Hunt   85185111  schinese   \n",
       "3           3  292030  The Witcher 3: Wild Hunt   85184605   english   \n",
       "4           4  292030  The Witcher 3: Wild Hunt   85184287  schinese   \n",
       "\n",
       "                                              review  timestamp_created  \\\n",
       "0                            不玩此生遗憾，RPG游戏里的天花板，太吸引人了         1611381629   \n",
       "1                                 拔DIAO无情打桩机--杰洛特!!!         1611381030   \n",
       "2                                              巫师3NB         1611380800   \n",
       "3  One of the best RPG's of all time, worthy of a...         1611379970   \n",
       "4                                                 大作         1611379427   \n",
       "\n",
       "   timestamp_updated  recommended  votes_helpful  ...  steam_purchase  \\\n",
       "0         1611381629         True              0  ...            True   \n",
       "1         1611381030         True              0  ...            True   \n",
       "2         1611380800         True              0  ...            True   \n",
       "3         1611379970         True              0  ...            True   \n",
       "4         1611379427         True              0  ...            True   \n",
       "\n",
       "   received_for_free  written_during_early_access     author.steamid  \\\n",
       "0              False                        False  76561199095369542   \n",
       "1              False                        False  76561198949504115   \n",
       "2              False                        False  76561199090098988   \n",
       "3              False                        False  76561199054755373   \n",
       "4              False                        False  76561199028326951   \n",
       "\n",
       "   author.num_games_owned  author.num_reviews  author.playtime_forever  \\\n",
       "0                       6                   2                   1909.0   \n",
       "1                      30                  10                   2764.0   \n",
       "2                       5                   1                   1061.0   \n",
       "3                       5                   3                   5587.0   \n",
       "4                       7                   4                    217.0   \n",
       "\n",
       "   author.playtime_last_two_weeks  author.playtime_at_review  \\\n",
       "0                          1448.0                     1909.0   \n",
       "1                          2743.0                     2674.0   \n",
       "2                          1061.0                     1060.0   \n",
       "3                          3200.0                     5524.0   \n",
       "4                            42.0                      217.0   \n",
       "\n",
       "   author.last_played  \n",
       "0        1.611343e+09  \n",
       "1        1.611386e+09  \n",
       "2        1.611384e+09  \n",
       "3        1.611384e+09  \n",
       "4        1.610788e+09  \n",
       "\n",
       "[5 rows x 23 columns]"
      ]
     },
     "execution_count": 5,
     "metadata": {},
     "output_type": "execute_result"
    }
   ],
   "source": [
    "dataset.head()"
   ]
  },
  {
   "cell_type": "markdown",
   "id": "65b90cef-6e9f-48b4-87d5-977262eca34f",
   "metadata": {},
   "source": [
    "# [RQ2] Let's explore the dataset by finding simple insights into the reviews"
   ]
  },
  {
   "cell_type": "markdown",
   "id": "659a4880-45f9-4724-a6f5-b32ad2728ad1",
   "metadata": {},
   "source": [
    "## [RQ2.1] plot the number of reviews for each application in descending order"
   ]
  },
  {
   "cell_type": "markdown",
   "id": "87afcac1-cb73-443f-be3e-f1c1387427ae",
   "metadata": {},
   "source": [
    "I'm creating a dataframeGroupby to store information for each application"
   ]
  },
  {
   "cell_type": "code",
   "execution_count": 6,
   "id": "5760fe0a-adc8-4666-92bc-1da01b4c6bb2",
   "metadata": {},
   "outputs": [],
   "source": [
    "app_group = dataset.groupby(\"app_name\")"
   ]
  },
  {
   "cell_type": "markdown",
   "id": "e61c4784-1851-4b6c-afdf-f53a166df608",
   "metadata": {},
   "source": [
    "Counting the number of reviews for each group/application. Than sort in descending order and plot it"
   ]
  },
  {
   "cell_type": "code",
   "execution_count": 7,
   "id": "b391f251-0d2f-4eab-95c6-96853274f56a",
   "metadata": {},
   "outputs": [
    {
     "data": {
      "image/png": "[encoded data removed]",
      "text/plain": [
       "<Figure size 720x1224 with 1 Axes>"
      ]
     },
     "metadata": {
      "needs_background": "light"
     },
     "output_type": "display_data"
    }
   ],
   "source": [
    "review_appcount = app_group[\"review\"].count().sort_values(ascending=False)\n",
    "\n",
    "review_appcount.plot(kind = \"barh\", title = \"Number of reviews for each application\", xlabel = \"Applications\",\n",
    "         ylabel = \"Number of reviews\", figsize=(10, 17))\n",
    "plt.show()"
   ]
  },
  {
   "cell_type": "markdown",
   "id": "9ec6b928-d213-4cc9-ab7e-c4772d7b0d20",
   "metadata": {},
   "source": [
    "## [RQ2.2] What applications have the best Weighted Vote Score?"
   ]
  },
  {
   "cell_type": "markdown",
   "id": "5791f7be-9439-4e9c-93c1-40d1b3bc6b5d",
   "metadata": {},
   "source": [
    "Compute max of each group and taken the best\n",
    "\n",
    "Just ouput the 5 best to see if there is some ugual best score"
   ]
  },
  {
   "cell_type": "code",
   "execution_count": 8,
   "id": "2906d624-d674-4110-b98e-54d99da83ea0",
   "metadata": {},
   "outputs": [
    {
     "data": {
      "text/plain": [
       "app_name\n",
       "Subnautica                     0.994453\n",
       "The Forest                     0.992581\n",
       "Human: Fall Flat               0.992336\n",
       "The Witcher 3: Wild Hunt       0.990385\n",
       "Sid Meier's Civilization VI    0.986126\n",
       "Name: weighted_vote_score, dtype: float64"
      ]
     },
     "execution_count": 8,
     "metadata": {},
     "output_type": "execute_result"
    }
   ],
   "source": [
    "app_group[\"weighted_vote_score\"].max().nlargest(5)"
   ]
  },
  {
   "cell_type": "markdown",
   "id": "9d1cf251-27ea-4ab8-bd24-edbc6164e1be",
   "metadata": {},
   "source": [
    "The application with the best Weighted Vote Score is: __Subnautica__ with __0.994453__ of score"
   ]
  },
  {
   "cell_type": "markdown",
   "id": "77335ed8-58ba-4aaa-92c5-047d10bd8e90",
   "metadata": {},
   "source": [
    "## [RQ2.3] Which applications have the most and the least recommendations?"
   ]
  },
  {
   "cell_type": "markdown",
   "id": "ae44cd10-c439-43a4-8f15-e60d67740d5b",
   "metadata": {},
   "source": [
    "\"Recommended\" is boolean type (True = 1, False = 0). If we sum over each group by recommended value, we can take the most and the least recommendated app"
   ]
  },
  {
   "cell_type": "code",
   "execution_count": 9,
   "id": "c322cd27-cb13-489f-8523-af1f89e7ea54",
   "metadata": {},
   "outputs": [
    {
     "data": {
      "text/plain": [
       "\"Garry's Mod\""
      ]
     },
     "execution_count": 9,
     "metadata": {},
     "output_type": "execute_result"
    }
   ],
   "source": [
    "recommended_app = app_group[\"recommended\"].sum().sort_values(ascending=False)\n",
    "recommended_app.head(1).index[0]"
   ]
  },
  {
   "cell_type": "code",
   "execution_count": 10,
   "id": "032d2a3e-37a3-402b-a23f-3d16c22ec819",
   "metadata": {},
   "outputs": [
    {
     "name": "stdout",
     "output_type": "stream",
     "text": [
      "The best recommended app is:\n",
      " app_name\n",
      "Garry's Mod                 632558\n",
      "The Witcher 3: Wild Hunt    460252\n",
      "Name: recommended, dtype: int64 \n",
      "\n",
      "The least recommended app is:\n",
      " app_name\n",
      "Cold Waters    2325\n",
      "Slipstream      957\n",
      "Name: recommended, dtype: int64\n"
     ]
    }
   ],
   "source": [
    "print(\"The best recommended app is:\\n\", recommended_app.head(2),\"\\n\")\n",
    "print(\"The least recommended app is:\\n\", recommended_app.tail(2))"
   ]
  },
  {
   "cell_type": "markdown",
   "id": "ae96ec5c-56d0-4b87-82ef-fbf857465ff0",
   "metadata": {},
   "source": [
    "The best recommended app is __Garry's Mod__.\n",
    "\n",
    "The least recommended app is __Identity__"
   ]
  },
  {
   "cell_type": "markdown",
   "id": "43e72cd0-4cc3-42e1-bdd4-8f550e3f3705",
   "metadata": {},
   "source": [
    "## [RQ2.4] How many of these applications were purchased, and how many were given for free?\n"
   ]
  },
  {
   "cell_type": "markdown",
   "id": "66f9fdef-494f-4752-be40-c10f4fde1409",
   "metadata": {},
   "source": [
    "Purchased and given for free are booleans ( True = 1, False = 0). If we sum over each group by purchase (or received for free) value we can count how many"
   ]
  },
  {
   "cell_type": "code",
   "execution_count": 11,
   "id": "253eca47-53c2-4dcb-b7c9-8d40b1f2bbd7",
   "metadata": {},
   "outputs": [],
   "source": [
    "# getting keys of groupby best and least recommended app\n",
    "best_app = recommended_app.head(1).index[0]\n",
    "least_app = recommended_app.tail(1).index[0]"
   ]
  },
  {
   "cell_type": "code",
   "execution_count": 12,
   "id": "8d6f2f17-c3f7-4d0e-b083-7bc001ff831a",
   "metadata": {},
   "outputs": [],
   "source": [
    "how_many_purchase_bestapp = app_group[\"steam_purchase\"].get_group(best_app).sum()\n",
    "how_many_free_bestapp = app_group[\"received_for_free\"].get_group(best_app).sum()"
   ]
  },
  {
   "cell_type": "code",
   "execution_count": 13,
   "id": "e6a54492-e959-425f-a9e2-8b9cd9b2c04d",
   "metadata": {},
   "outputs": [],
   "source": [
    "how_many_purchase_leastapp = app_group[\"steam_purchase\"].get_group(least_app).sum()\n",
    "how_many_free_leastapp = app_group[\"received_for_free\"].get_group(least_app).sum()"
   ]
  },
  {
   "cell_type": "code",
   "execution_count": 14,
   "id": "0140e6d1-db89-4ed9-b5d2-1407d0080643",
   "metadata": {},
   "outputs": [
    {
     "name": "stdout",
     "output_type": "stream",
     "text": [
      "How many were purchased?\n",
      " Garry's Mod :  551250 \n",
      " Slipstream :  607\n",
      "\n",
      "How many were given for free?\n",
      " Garry's Mod :  24765 \n",
      " Slipstream :  47\n"
     ]
    }
   ],
   "source": [
    "print(\"How many were purchased?\\n\", best_app, \": \",how_many_purchase_bestapp,\"\\n\",least_app, \": \",how_many_purchase_leastapp)\n",
    "print(\"\\nHow many were given for free?\\n\", best_app, \": \",how_many_free_bestapp,\"\\n\",least_app, \": \",how_many_free_leastapp)"
   ]
  },
  {
   "cell_type": "code",
   "execution_count": 15,
   "id": "f95e579c-e588-4692-a676-8d2f098a7d36",
   "metadata": {},
   "outputs": [
    {
     "data": {
      "text/html": [
       "<style type=\"text/css\">\n",
       "</style>\n",
       "<table id=\"T_349f6_\">\n",
       "  <thead>\n",
       "    <tr>\n",
       "      <th class=\"blank level0\" >&nbsp;</th>\n",
       "      <th class=\"col_heading level0 col0\" >Purchase</th>\n",
       "      <th class=\"col_heading level0 col1\" >Given for free</th>\n",
       "    </tr>\n",
       "  </thead>\n",
       "  <tbody>\n",
       "    <tr>\n",
       "      <th id=\"T_349f6_level0_row0\" class=\"row_heading level0 row0\" >Garry's Mod</th>\n",
       "      <td id=\"T_349f6_row0_col0\" class=\"data row0 col0\" >551250</td>\n",
       "      <td id=\"T_349f6_row0_col1\" class=\"data row0 col1\" >607</td>\n",
       "    </tr>\n",
       "    <tr>\n",
       "      <th id=\"T_349f6_level0_row1\" class=\"row_heading level0 row1\" >Slipstream</th>\n",
       "      <td id=\"T_349f6_row1_col0\" class=\"data row1 col0\" >24765</td>\n",
       "      <td id=\"T_349f6_row1_col1\" class=\"data row1 col1\" >47</td>\n",
       "    </tr>\n",
       "  </tbody>\n",
       "</table>\n"
      ],
      "text/plain": [
       "<pandas.io.formats.style.Styler at 0x2279d7f0d00>"
      ]
     },
     "execution_count": 15,
     "metadata": {},
     "output_type": "execute_result"
    }
   ],
   "source": [
    "df = pd.DataFrame([[how_many_purchase_bestapp,how_many_purchase_leastapp],[how_many_free_bestapp,how_many_free_leastapp]],\n",
    "                  index = [best_app, least_app],\n",
    "                  columns = [\"Purchase\",\"Given for free\"])\n",
    "df.style"
   ]
  },
  {
   "cell_type": "markdown",
   "id": "57ec54e0-5932-443f-a609-138cf97f718c",
   "metadata": {},
   "source": [
    "# [RQ4] As Steam is a worldwide platform, the reviews can be done in many languages. Let's extract some information about it."
   ]
  },
  {
   "cell_type": "markdown",
   "id": "93fb752b-14d8-48a2-b0b3-f719647cba78",
   "metadata": {},
   "source": [
    "## [RQ4.1] What are the top 3 languages used to review applications?"
   ]
  },
  {
   "cell_type": "markdown",
   "id": "9be7c470-923f-48dc-b05d-fc0b139518b2",
   "metadata": {},
   "source": [
    "Each review is writting in one languages, so we groupby language and count the occurencies of the language for each group"
   ]
  },
  {
   "cell_type": "code",
   "execution_count": 23,
   "id": "ebecd1d0-3e25-4c82-99bf-0d6d5d16bc59",
   "metadata": {},
   "outputs": [],
   "source": [
    "n = 3\n",
    "\n",
    "top_languages = dataset.groupby(\"language\")[\"language\"].count().sort_values(ascending = False)"
   ]
  },
  {
   "cell_type": "code",
   "execution_count": 29,
   "id": "b9a2d826-7fa0-425a-ad95-c9c919965a02",
   "metadata": {},
   "outputs": [
    {
     "name": "stdout",
     "output_type": "stream",
     "text": [
      "['english', 'russian', 'schinese']\n"
     ]
    }
   ],
   "source": [
    "top3_languages = list(top_languages[:3].index)\n",
    "print(top3_languages)"
   ]
  },
  {
   "cell_type": "markdown",
   "id": "95fcb773-d8ce-427e-989d-26fec5a0296e",
   "metadata": {},
   "source": [
    "The top 3 languages used to review applications are: __english, russian, schinese__"
   ]
  },
  {
   "cell_type": "markdown",
   "id": "fd1d46df-fa17-48c9-a8b6-e72d9e0fd28b",
   "metadata": {},
   "source": [
    "## [RQ4.2] Create a function that receives as parameters both the name of a data set and a list of languages’ names and returns a data frame filtered only with the reviews written in the provided languages"
   ]
  },
  {
   "cell_type": "code",
   "execution_count": 21,
   "id": "258f5dc3-97bc-4089-bcf5-eeb538445d2f",
   "metadata": {},
   "outputs": [],
   "source": [
    "def filtered_language_reviews(dataset, languages):\n",
    "    return dataset[dataset.language.isin(languages)]"
   ]
  },
  {
   "cell_type": "markdown",
   "id": "64406bf7-5b4d-4071-8985-8b16802eee0c",
   "metadata": {},
   "source": [
    "## [RQ4.3] Use the function created in the previous literal to find what percentage of these reviews (associated with the top 3 languages) were voted as funny?"
   ]
  },
  {
   "cell_type": "code",
   "execution_count": 30,
   "id": "d6820334-5133-4d79-8077-9ba3148c3857",
   "metadata": {},
   "outputs": [],
   "source": [
    "filtered_dataset = filtered_language_reviews(dataset, top3_languages)"
   ]
  },
  {
   "cell_type": "code",
   "execution_count": 33,
   "id": "a2390099-2d3b-4698-997d-95f12e796672",
   "metadata": {},
   "outputs": [],
   "source": [
    "total_cases = filtered_dataset.shape[0]   "
   ]
  },
  {
   "cell_type": "code",
   "execution_count": 34,
   "id": "967c5efa-f78e-4a1f-859d-96cf19e8cee4",
   "metadata": {},
   "outputs": [],
   "source": [
    "fav_cases = filtered_dataset[filtered_dataset[\"votes_funny\"] > 0].shape[0]"
   ]
  },
  {
   "cell_type": "code",
   "execution_count": 37,
   "id": "08105850-84f0-4160-aeb4-1dfcd57869d6",
   "metadata": {},
   "outputs": [
    {
     "name": "stdout",
     "output_type": "stream",
     "text": [
      "11.77%\n"
     ]
    }
   ],
   "source": [
    "percent_funny_reviews = 100*fav_cases/total_cases\n",
    "print(\"{:.2f}%\".format(percent_funny_reviews))"
   ]
  },
  {
   "cell_type": "markdown",
   "id": "27a1b3a4-b0f2-4e78-82a6-52f2df6aae22",
   "metadata": {},
   "source": [
    "The percentage of reviews wrote with the 3 top langauages voted as funny is: __11.77%__"
   ]
  },
  {
   "cell_type": "markdown",
   "id": "431c8f48-9c01-405f-9047-edcf3b119324",
   "metadata": {},
   "source": [
    "## [RQ4.4] Use the function created in the literal “a” to find what percentage of these reviews (associated with the top 3 languages) were voted as helpful?"
   ]
  },
  {
   "cell_type": "code",
   "execution_count": 38,
   "id": "eb334f6b-35f0-4d3e-9699-045f550bd063",
   "metadata": {},
   "outputs": [],
   "source": [
    "fav_cases = filtered_dataset[filtered_dataset[\"votes_helpful\"] > 0].shape[0]"
   ]
  },
  {
   "cell_type": "code",
   "execution_count": 39,
   "id": "94148d2c-a908-4fb4-a745-b619ef36db13",
   "metadata": {},
   "outputs": [
    {
     "name": "stdout",
     "output_type": "stream",
     "text": [
      "27.92%\n"
     ]
    }
   ],
   "source": [
    "percent_helpful_reviews = 100*fav_cases/total_cases\n",
    "print(\"{:.2f}%\".format(percent_helpful_reviews))"
   ]
  },
  {
   "cell_type": "markdown",
   "id": "0448de67-b11b-4607-9062-820aa8924b0e",
   "metadata": {},
   "source": [
    "The percentage of reviews wrote with the 3 top langauages voted as funny is: __27.92%__"
   ]
  },
  {
   "cell_type": "markdown",
   "id": "baaadb27-3ee9-4966-8fcc-aa14403669b8",
   "metadata": {},
   "source": [
    "# [RQ5] The reviews' authors are users from the game that provide their opinion on it. Now you can check how often they make reviews."
   ]
  },
  {
   "cell_type": "markdown",
   "id": "0ce46dc7-6bd7-43cc-8fae-1b0c0314abef",
   "metadata": {},
   "source": [
    "## [RQ5.1] Plot the top 10 most popular reviewers and the number of reviews"
   ]
  },
  {
   "cell_type": "code",
   "execution_count": 45,
   "id": "2b0fba8d-4275-4ed2-ab65-15cdac793496",
   "metadata": {},
   "outputs": [
    {
     "data": {
      "image/png": "[encoded data removed]",
      "text/plain": [
       "<Figure size 432x288 with 1 Axes>"
      ]
     },
     "metadata": {
      "needs_background": "light"
     },
     "output_type": "display_data"
    }
   ],
   "source": [
    "dataset_top10_reviewers = dataset.sort_values([\"author.num_reviews\"], ascending = False).groupby(\"author.steamid\").head(1)[:10]\n",
    "dataset_top10_reviewers.plot.barh(x = \"author.steamid\", y = \"author.num_reviews\")\n",
    "plt.show()"
   ]
  },
  {
   "cell_type": "markdown",
   "id": "8cc084ed-2bf7-4029-a240-5ac5fec0518f",
   "metadata": {},
   "source": [
    "## [RQ5.2] What applications did the most popular author review?"
   ]
  },
  {
   "cell_type": "markdown",
   "id": "82138046-7636-4fa7-8c7f-ed492b791117",
   "metadata": {},
   "source": [
    "We take the steam_id of the top reviewer, than take the dataset of that person"
   ]
  },
  {
   "cell_type": "code",
   "execution_count": 74,
   "id": "7391ae20-ff12-42bf-9b09-39e33806e87a",
   "metadata": {},
   "outputs": [],
   "source": [
    "steam_id_top_reviewer = list(dataset_top10_reviewers[\"author.steamid\"].head(1))[0]\n",
    "#steam_id_top_reviewer"
   ]
  },
  {
   "cell_type": "code",
   "execution_count": 78,
   "id": "a1e550dd-c74e-4bbd-8bcb-6c796124f124",
   "metadata": {},
   "outputs": [
    {
     "data": {
      "text/html": [
       "<div>\n",
       "<style scoped>\n",
       "    .dataframe tbody tr th:only-of-type {\n",
       "        vertical-align: middle;\n",
       "    }\n",
       "\n",
       "    .dataframe tbody tr th {\n",
       "        vertical-align: top;\n",
       "    }\n",
       "\n",
       "    .dataframe thead th {\n",
       "        text-align: right;\n",
       "    }\n",
       "</style>\n",
       "<table border=\"1\" class=\"dataframe\">\n",
       "  <thead>\n",
       "    <tr style=\"text-align: right;\">\n",
       "      <th></th>\n",
       "      <th>Unnamed: 0</th>\n",
       "      <th>app_id</th>\n",
       "      <th>app_name</th>\n",
       "      <th>review_id</th>\n",
       "      <th>language</th>\n",
       "      <th>review</th>\n",
       "      <th>timestamp_created</th>\n",
       "      <th>timestamp_updated</th>\n",
       "      <th>recommended</th>\n",
       "      <th>votes_helpful</th>\n",
       "      <th>...</th>\n",
       "      <th>steam_purchase</th>\n",
       "      <th>received_for_free</th>\n",
       "      <th>written_during_early_access</th>\n",
       "      <th>author.steamid</th>\n",
       "      <th>author.num_games_owned</th>\n",
       "      <th>author.num_reviews</th>\n",
       "      <th>author.playtime_forever</th>\n",
       "      <th>author.playtime_last_two_weeks</th>\n",
       "      <th>author.playtime_at_review</th>\n",
       "      <th>author.last_played</th>\n",
       "    </tr>\n",
       "  </thead>\n",
       "  <tbody>\n",
       "    <tr>\n",
       "      <th>504382</th>\n",
       "      <td>504383</td>\n",
       "      <td>70</td>\n",
       "      <td>Half-Life</td>\n",
       "      <td>43084988</td>\n",
       "      <td>english</td>\n",
       "      <td>1337</td>\n",
       "      <td>1530059912</td>\n",
       "      <td>1530059912</td>\n",
       "      <td>True</td>\n",
       "      <td>0</td>\n",
       "      <td>...</td>\n",
       "      <td>False</td>\n",
       "      <td>False</td>\n",
       "      <td>False</td>\n",
       "      <td>76561198125392509</td>\n",
       "      <td>652</td>\n",
       "      <td>5236</td>\n",
       "      <td>20.0</td>\n",
       "      <td>0.0</td>\n",
       "      <td>19.0</td>\n",
       "      <td>1.543585e+09</td>\n",
       "    </tr>\n",
       "    <tr>\n",
       "      <th>575674</th>\n",
       "      <td>575675</td>\n",
       "      <td>240</td>\n",
       "      <td>Counter-Strike: Source</td>\n",
       "      <td>42957087</td>\n",
       "      <td>english</td>\n",
       "      <td>1337</td>\n",
       "      <td>1529737601</td>\n",
       "      <td>1529737601</td>\n",
       "      <td>True</td>\n",
       "      <td>4</td>\n",
       "      <td>...</td>\n",
       "      <td>False</td>\n",
       "      <td>False</td>\n",
       "      <td>False</td>\n",
       "      <td>76561198125392509</td>\n",
       "      <td>652</td>\n",
       "      <td>5236</td>\n",
       "      <td>9.0</td>\n",
       "      <td>0.0</td>\n",
       "      <td>8.0</td>\n",
       "      <td>1.566017e+09</td>\n",
       "    </tr>\n",
       "    <tr>\n",
       "      <th>656318</th>\n",
       "      <td>656319</td>\n",
       "      <td>420</td>\n",
       "      <td>Half-Life 2: Episode Two</td>\n",
       "      <td>43141276</td>\n",
       "      <td>english</td>\n",
       "      <td>1337</td>\n",
       "      <td>1530226026</td>\n",
       "      <td>1530226026</td>\n",
       "      <td>True</td>\n",
       "      <td>0</td>\n",
       "      <td>...</td>\n",
       "      <td>False</td>\n",
       "      <td>False</td>\n",
       "      <td>False</td>\n",
       "      <td>76561198125392509</td>\n",
       "      <td>652</td>\n",
       "      <td>5236</td>\n",
       "      <td>10.0</td>\n",
       "      <td>0.0</td>\n",
       "      <td>9.0</td>\n",
       "      <td>1.534797e+09</td>\n",
       "    </tr>\n",
       "    <tr>\n",
       "      <th>1258197</th>\n",
       "      <td>1258198</td>\n",
       "      <td>4000</td>\n",
       "      <td>Garry's Mod</td>\n",
       "      <td>41015292</td>\n",
       "      <td>english</td>\n",
       "      <td>prophunt is my favourite</td>\n",
       "      <td>1521894336</td>\n",
       "      <td>1521894336</td>\n",
       "      <td>True</td>\n",
       "      <td>5</td>\n",
       "      <td>...</td>\n",
       "      <td>True</td>\n",
       "      <td>False</td>\n",
       "      <td>False</td>\n",
       "      <td>76561198125392509</td>\n",
       "      <td>652</td>\n",
       "      <td>5236</td>\n",
       "      <td>629472.0</td>\n",
       "      <td>12786.0</td>\n",
       "      <td>10961.0</td>\n",
       "      <td>1.611104e+09</td>\n",
       "    </tr>\n",
       "  </tbody>\n",
       "</table>\n",
       "<p>4 rows × 23 columns</p>\n",
       "</div>"
      ],
      "text/plain": [
       "         Unnamed: 0  app_id                  app_name  review_id language  \\\n",
       "504382       504383      70                 Half-Life   43084988  english   \n",
       "575674       575675     240    Counter-Strike: Source   42957087  english   \n",
       "656318       656319     420  Half-Life 2: Episode Two   43141276  english   \n",
       "1258197     1258198    4000               Garry's Mod   41015292  english   \n",
       "\n",
       "                           review  timestamp_created  timestamp_updated  \\\n",
       "504382                       1337         1530059912         1530059912   \n",
       "575674                       1337         1529737601         1529737601   \n",
       "656318                       1337         1530226026         1530226026   \n",
       "1258197  prophunt is my favourite         1521894336         1521894336   \n",
       "\n",
       "         recommended  votes_helpful  ...  steam_purchase  received_for_free  \\\n",
       "504382          True              0  ...           False              False   \n",
       "575674          True              4  ...           False              False   \n",
       "656318          True              0  ...           False              False   \n",
       "1258197         True              5  ...            True              False   \n",
       "\n",
       "         written_during_early_access     author.steamid  \\\n",
       "504382                         False  76561198125392509   \n",
       "575674                         False  76561198125392509   \n",
       "656318                         False  76561198125392509   \n",
       "1258197                        False  76561198125392509   \n",
       "\n",
       "         author.num_games_owned  author.num_reviews  author.playtime_forever  \\\n",
       "504382                      652                5236                     20.0   \n",
       "575674                      652                5236                      9.0   \n",
       "656318                      652                5236                     10.0   \n",
       "1258197                     652                5236                 629472.0   \n",
       "\n",
       "         author.playtime_last_two_weeks  author.playtime_at_review  \\\n",
       "504382                              0.0                       19.0   \n",
       "575674                              0.0                        8.0   \n",
       "656318                              0.0                        9.0   \n",
       "1258197                         12786.0                    10961.0   \n",
       "\n",
       "         author.last_played  \n",
       "504382         1.543585e+09  \n",
       "575674         1.566017e+09  \n",
       "656318         1.534797e+09  \n",
       "1258197        1.611104e+09  \n",
       "\n",
       "[4 rows x 23 columns]"
      ]
     },
     "execution_count": 78,
     "metadata": {},
     "output_type": "execute_result"
    }
   ],
   "source": [
    "top_reviewer_dataset = dataset[dataset[\"author.steamid\"] == steam_id_top_reviewer].copy()\n",
    "top_reviewer_dataset"
   ]
  },
  {
   "cell_type": "code",
   "execution_count": 77,
   "id": "6151f43a-9845-4b5e-a1b9-5cb05eecf9ba",
   "metadata": {},
   "outputs": [
    {
     "name": "stdout",
     "output_type": "stream",
     "text": [
      "['Half-Life', 'Counter-Strike: Source', 'Half-Life 2: Episode Two', \"Garry's Mod\"]\n"
     ]
    }
   ],
   "source": [
    "app_top_reviewer = top_reviewer_dataset[\"app_name\"]\n",
    "print(list(app_top_reviewer))"
   ]
  },
  {
   "cell_type": "markdown",
   "id": "2ad6e050-f0e4-4bff-bff4-2e1efaa3c60a",
   "metadata": {},
   "source": [
    "## [RQ5.3] How many applications did he purchase, and how many did he get as free? Provide the number (count) and the percentage."
   ]
  },
  {
   "cell_type": "markdown",
   "id": "f3fe91b4-725a-4c55-9368-5fe6b3dffa54",
   "metadata": {},
   "source": [
    "Purchase and free is a Bolean so,..."
   ]
  },
  {
   "cell_type": "code",
   "execution_count": 85,
   "id": "752c7398-011e-4e09-a406-55425bd2da6c",
   "metadata": {},
   "outputs": [],
   "source": [
    "total_cases = top_reviewer_dataset.shape[0] "
   ]
  },
  {
   "cell_type": "code",
   "execution_count": 87,
   "id": "d3f56ccb-aaaa-4b2a-bd63-89af52fb8fb2",
   "metadata": {},
   "outputs": [],
   "source": [
    "number_of_purchase = top_reviewer_dataset[\"steam_purchase\"].sum()\n",
    "number_of_free = top_reviewer_dataset[\"received_for_free\"].sum()"
   ]
  },
  {
   "cell_type": "code",
   "execution_count": 89,
   "id": "2be178f8-f585-4a10-98cd-d8a340f75743",
   "metadata": {},
   "outputs": [],
   "source": [
    "percent_of_purchase = 100*number_of_purchase/total_cases\n",
    "percent_of_free = 100*number_of_free/total_cases"
   ]
  },
  {
   "cell_type": "markdown",
   "id": "d72b3406-4782-4f3f-8c43-894fcb9f4367",
   "metadata": {},
   "source": [
    "## [RQ5.4] How many of the applications he purchased reviewed positively, and how many negatively? How about the applications he received for free?"
   ]
  },
  {
   "cell_type": "code",
   "execution_count": null,
   "id": "e84885ec-3a5a-4b1d-bc65-704c7f4f4fea",
   "metadata": {},
   "outputs": [],
   "source": [
    "dff = df[[\"recommended\", \"steam_purchase\", \"received_for_free\"]].loc[idx]\n",
    "dff"
   ]
  },
  {
   "cell_type": "code",
   "execution_count": null,
   "id": "6b4e138f-300e-4b64-a7f8-0cce27ad8e74",
   "metadata": {},
   "outputs": [],
   "source": [
    "recommended = df[\"recommended\"].loc[idx].values"
   ]
  },
  {
   "cell_type": "code",
   "execution_count": null,
   "id": "f9f03692-8e6b-480d-9d93-809526e7baea",
   "metadata": {},
   "outputs": [],
   "source": [
    "n_pur_pos = 0\n",
    "n_pur_neg = 0\n",
    "for x,y in zip(steam_purchase_top,recommended):\n",
    "    if x == True and y == True:\n",
    "        n_pur_pos +=1\n",
    "    elif x == True and y == False:\n",
    "        n_pur_neg +=1\n",
    "        \n",
    "print(n_pur_pos)\n",
    "print(n_pur_neg)"
   ]
  },
  {
   "cell_type": "code",
   "execution_count": null,
   "id": "ce43a36b-3cf7-4bae-8278-d8b90dfa28f6",
   "metadata": {},
   "outputs": [],
   "source": [
    "n_free_pos = 0\n",
    "n_free_neg = 0\n",
    "for x,y in zip(received_free_top,recommended):\n",
    "    if x == True and y == True:\n",
    "        n_free_pos +=1\n",
    "    elif x == True and y == False:\n",
    "        n_free_neg +=1\n",
    "        \n",
    "print(n_free_pos)\n",
    "print(n_free_neg)"
   ]
  },
  {
   "cell_type": "code",
   "execution_count": null,
   "id": "4cd25c6c-f7f8-477f-b610-f28cea17bc2a",
   "metadata": {},
   "outputs": [],
   "source": []
  }
 ],
 "metadata": {
  "kernelspec": {
   "display_name": "Python 3 (ipykernel)",
   "language": "python",
   "name": "python3"
  },
  "language_info": {
   "codemirror_mode": {
    "name": "ipython",
    "version": 3
   },
   "file_extension": ".py",
   "mimetype": "text/x-python",
   "name": "python",
   "nbconvert_exporter": "python",
   "pygments_lexer": "ipython3",
   "version": "3.8.8"
  }
 },
 "nbformat": 4,
 "nbformat_minor": 5
}
